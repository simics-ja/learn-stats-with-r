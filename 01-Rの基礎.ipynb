{
  "cells": [
    {
      "metadata": {},
      "cell_type": "markdown",
      "source": "# Rの基礎\nRの基本的な言語仕様をまとめています．\nある程度他の言語を触ったことがある人向けの内容です.\n「Rだとあれの書き方どうやるの？」というリファレンスにどうぞ．\n\n## 使い方\n「Shift + Enter」でセルを実行し，プログラムの内容とその実行結果を確認しましょう.\n\n---\n\n# 変数と演算"
    },
    {
      "metadata": {
        "trusted": true,
        "scrolled": false
      },
      "cell_type": "code",
      "source": "# 変数に代入\nx<-10\ny<-3\n# 演算\nx+y #和\nx-y #差\nx*y #積\nx/y #商\nx^y #累乗 x**yでもOK\nx%/%y#整数商\nx%%y #剰余",
      "execution_count": 3,
      "outputs": [
        {
          "output_type": "display_data",
          "data": {
            "text/plain": "[1] 13",
            "text/latex": "13",
            "text/markdown": "13",
            "text/html": "13"
          },
          "metadata": {}
        },
        {
          "output_type": "display_data",
          "data": {
            "text/plain": "[1] 7",
            "text/latex": "7",
            "text/markdown": "7",
            "text/html": "7"
          },
          "metadata": {}
        },
        {
          "output_type": "display_data",
          "data": {
            "text/plain": "[1] 30",
            "text/latex": "30",
            "text/markdown": "30",
            "text/html": "30"
          },
          "metadata": {}
        },
        {
          "output_type": "display_data",
          "data": {
            "text/plain": "[1] 3.333333",
            "text/latex": "3.33333333333333",
            "text/markdown": "3.33333333333333",
            "text/html": "3.33333333333333"
          },
          "metadata": {}
        },
        {
          "output_type": "display_data",
          "data": {
            "text/plain": "[1] 1000",
            "text/latex": "1000",
            "text/markdown": "1000",
            "text/html": "1000"
          },
          "metadata": {}
        },
        {
          "output_type": "display_data",
          "data": {
            "text/plain": "[1] 3",
            "text/latex": "3",
            "text/markdown": "3",
            "text/html": "3"
          },
          "metadata": {}
        },
        {
          "output_type": "display_data",
          "data": {
            "text/plain": "[1] 1",
            "text/latex": "1",
            "text/markdown": "1",
            "text/html": "1"
          },
          "metadata": {}
        }
      ]
    },
    {
      "metadata": {},
      "cell_type": "markdown",
      "source": "---\n# データ型\nRの型はもっと細かいですがここでは大雑把に紹介します.  \n詳しいことは以下をチェック．\n\n[\\[参考URL\\] R の「型」について](http://www.hnagata.net/archives/479)\n\n## 実数"
    },
    {
      "metadata": {
        "trusted": true
      },
      "cell_type": "code",
      "source": "a<-100\nmode(a)\ntypeof(a)",
      "execution_count": 2,
      "outputs": [
        {
          "output_type": "display_data",
          "data": {
            "text/plain": "[1] \"numeric\"",
            "text/latex": "'numeric'",
            "text/markdown": "'numeric'",
            "text/html": "'numeric'"
          },
          "metadata": {}
        },
        {
          "output_type": "display_data",
          "data": {
            "text/plain": "[1] \"double\"",
            "text/latex": "'double'",
            "text/markdown": "'double'",
            "text/html": "'double'"
          },
          "metadata": {}
        }
      ]
    },
    {
      "metadata": {},
      "cell_type": "markdown",
      "source": "## 複素数"
    },
    {
      "metadata": {
        "trusted": true
      },
      "cell_type": "code",
      "source": "a<-1+2i #複素数\nmode(a)\ntypeof(a)\nRe(a) #実部\nIm(a) #虚部\nabs(a) #絶対値\nArg(a) #偏角\nConj(a) #共役複素数",
      "execution_count": 4,
      "outputs": [
        {
          "output_type": "display_data",
          "data": {
            "text/plain": "[1] \"complex\"",
            "text/latex": "'complex'",
            "text/markdown": "'complex'",
            "text/html": "'complex'"
          },
          "metadata": {}
        },
        {
          "output_type": "display_data",
          "data": {
            "text/plain": "[1] \"complex\"",
            "text/latex": "'complex'",
            "text/markdown": "'complex'",
            "text/html": "'complex'"
          },
          "metadata": {}
        },
        {
          "output_type": "display_data",
          "data": {
            "text/plain": "[1] 1",
            "text/latex": "1",
            "text/markdown": "1",
            "text/html": "1"
          },
          "metadata": {}
        },
        {
          "output_type": "display_data",
          "data": {
            "text/plain": "[1] 2",
            "text/latex": "2",
            "text/markdown": "2",
            "text/html": "2"
          },
          "metadata": {}
        },
        {
          "output_type": "display_data",
          "data": {
            "text/plain": "[1] 2.236068",
            "text/latex": "2.23606797749979",
            "text/markdown": "2.23606797749979",
            "text/html": "2.23606797749979"
          },
          "metadata": {}
        },
        {
          "output_type": "display_data",
          "data": {
            "text/plain": "[1] 1.107149",
            "text/latex": "1.10714871779409",
            "text/markdown": "1.10714871779409",
            "text/html": "1.10714871779409"
          },
          "metadata": {}
        },
        {
          "output_type": "display_data",
          "data": {
            "text/plain": "[1] 1-2i",
            "text/latex": "1-2i",
            "text/markdown": "1-2i",
            "text/html": "1-2i"
          },
          "metadata": {}
        }
      ]
    },
    {
      "metadata": {},
      "cell_type": "markdown",
      "source": "## 文字列"
    },
    {
      "metadata": {
        "trusted": true
      },
      "cell_type": "code",
      "source": "a<-\"テスト\" #文字列\nmode(a)\ntypeof(a)",
      "execution_count": 5,
      "outputs": [
        {
          "output_type": "display_data",
          "data": {
            "text/plain": "[1] \"character\"",
            "text/latex": "'character'",
            "text/markdown": "'character'",
            "text/html": "'character'"
          },
          "metadata": {}
        },
        {
          "output_type": "display_data",
          "data": {
            "text/plain": "[1] \"character\"",
            "text/latex": "'character'",
            "text/markdown": "'character'",
            "text/html": "'character'"
          },
          "metadata": {}
        }
      ]
    },
    {
      "metadata": {},
      "cell_type": "markdown",
      "source": "## 真偽値"
    },
    {
      "metadata": {
        "trusted": true,
        "scrolled": true
      },
      "cell_type": "code",
      "source": "a<-TRUE\nmode(a)\ntypeof(a)\n#TRUE, FALSEは省略可\nb<-T\nc<-F\nb\nc",
      "execution_count": 6,
      "outputs": [
        {
          "output_type": "display_data",
          "data": {
            "text/plain": "[1] \"logical\"",
            "text/latex": "'logical'",
            "text/markdown": "'logical'",
            "text/html": "'logical'"
          },
          "metadata": {}
        },
        {
          "output_type": "display_data",
          "data": {
            "text/plain": "[1] \"logical\"",
            "text/latex": "'logical'",
            "text/markdown": "'logical'",
            "text/html": "'logical'"
          },
          "metadata": {}
        },
        {
          "output_type": "display_data",
          "data": {
            "text/plain": "[1] TRUE",
            "text/latex": "TRUE",
            "text/markdown": "TRUE",
            "text/html": "TRUE"
          },
          "metadata": {}
        },
        {
          "output_type": "display_data",
          "data": {
            "text/plain": "[1] FALSE",
            "text/latex": "FALSE",
            "text/markdown": "FALSE",
            "text/html": "FALSE"
          },
          "metadata": {}
        }
      ]
    },
    {
      "metadata": {},
      "cell_type": "markdown",
      "source": "## 型判定"
    },
    {
      "metadata": {
        "trusted": true
      },
      "cell_type": "code",
      "source": "is.numeric(1)\nis.complex(1+1i)\nis.character(\"あああ\")\nis.logical(FALSE)",
      "execution_count": 7,
      "outputs": [
        {
          "output_type": "display_data",
          "data": {
            "text/plain": "[1] TRUE",
            "text/latex": "TRUE",
            "text/markdown": "TRUE",
            "text/html": "TRUE"
          },
          "metadata": {}
        },
        {
          "output_type": "display_data",
          "data": {
            "text/plain": "[1] TRUE",
            "text/latex": "TRUE",
            "text/markdown": "TRUE",
            "text/html": "TRUE"
          },
          "metadata": {}
        },
        {
          "output_type": "display_data",
          "data": {
            "text/plain": "[1] TRUE",
            "text/latex": "TRUE",
            "text/markdown": "TRUE",
            "text/html": "TRUE"
          },
          "metadata": {}
        },
        {
          "output_type": "display_data",
          "data": {
            "text/plain": "[1] TRUE",
            "text/latex": "TRUE",
            "text/markdown": "TRUE",
            "text/html": "TRUE"
          },
          "metadata": {}
        }
      ]
    },
    {
      "metadata": {},
      "cell_type": "markdown",
      "source": "## 型変換"
    },
    {
      "metadata": {
        "trusted": true
      },
      "cell_type": "code",
      "source": "x<-10\nis.character(x)\nis.character(as.character(x)) #as.xxxxで変換",
      "execution_count": null,
      "outputs": []
    },
    {
      "metadata": {},
      "cell_type": "markdown",
      "source": "---\n# ベクトル\n\nベクトルは複数の要素を格納しておくためのオブジェクトのうちのひとつです．\nベクトルは他言語で言うところの1次元配列のような使い方ができます．  \n配列と違って，ベクトルは多次元的なデータは扱いません．Rには配列型もあるので，多次元的なデータを保持しておく場合は配列型を使うと良いでしょう．\n以下のURLが参考になります．\n\n\n[\\[参考URL\\] ベクトル、行列、データフレーム、リスト、配列、テーブルの違い\n](https://cell-innovation.nig.ac.jp/surfers/vector_difference.html)\n\n## ベクトルの作成"
    },
    {
      "metadata": {
        "trusted": true,
        "scrolled": true
      },
      "cell_type": "code",
      "source": "a<-c(1,2,1,3)\nb<-c(1,2,2,4)\n#表示\na\nb",
      "execution_count": null,
      "outputs": []
    },
    {
      "metadata": {},
      "cell_type": "markdown",
      "source": "## 規則性のあるベクトル\n### 差が1の数列"
    },
    {
      "metadata": {
        "trusted": true
      },
      "cell_type": "code",
      "source": "0:10\n3:-3",
      "execution_count": 8,
      "outputs": [
        {
          "output_type": "display_data",
          "data": {
            "text/plain": " [1]  0  1  2  3  4  5  6  7  8  9 10",
            "text/latex": "\\begin{enumerate*}\n\\item 0\n\\item 1\n\\item 2\n\\item 3\n\\item 4\n\\item 5\n\\item 6\n\\item 7\n\\item 8\n\\item 9\n\\item 10\n\\end{enumerate*}\n",
            "text/markdown": "1. 0\n2. 1\n3. 2\n4. 3\n5. 4\n6. 5\n7. 6\n8. 7\n9. 8\n10. 9\n11. 10\n\n\n",
            "text/html": "<ol class=list-inline>\n\t<li>0</li>\n\t<li>1</li>\n\t<li>2</li>\n\t<li>3</li>\n\t<li>4</li>\n\t<li>5</li>\n\t<li>6</li>\n\t<li>7</li>\n\t<li>8</li>\n\t<li>9</li>\n\t<li>10</li>\n</ol>\n"
          },
          "metadata": {}
        },
        {
          "output_type": "display_data",
          "data": {
            "text/plain": "[1]  3  2  1  0 -1 -2 -3",
            "text/latex": "\\begin{enumerate*}\n\\item 3\n\\item 2\n\\item 1\n\\item 0\n\\item -1\n\\item -2\n\\item -3\n\\end{enumerate*}\n",
            "text/markdown": "1. 3\n2. 2\n3. 1\n4. 0\n5. -1\n6. -2\n7. -3\n\n\n",
            "text/html": "<ol class=list-inline>\n\t<li>3</li>\n\t<li>2</li>\n\t<li>1</li>\n\t<li>0</li>\n\t<li>-1</li>\n\t<li>-2</li>\n\t<li>-3</li>\n</ol>\n"
          },
          "metadata": {}
        }
      ]
    },
    {
      "metadata": {},
      "cell_type": "markdown",
      "source": "### 繰り返し（rep）"
    },
    {
      "metadata": {
        "trusted": true,
        "scrolled": true
      },
      "cell_type": "code",
      "source": "rep(11,3) #rep(繰り返す対象, 回数)\nrep(c(1,2,3),times=8) #1,2,3を8回繰り返す．\nrep(c(1,2,3),length=8) #1,2,3を長さ8になるまで繰り返す．\nrep(c(1,2,3),each=3) #それぞれ3回繰り返す．\nrep(c(1,2,3),each=3,length=8) #組み合わせ",
      "execution_count": 3,
      "outputs": [
        {
          "output_type": "display_data",
          "data": {
            "text/plain": "[1] 11 11 11",
            "text/latex": "\\begin{enumerate*}\n\\item 11\n\\item 11\n\\item 11\n\\end{enumerate*}\n",
            "text/markdown": "1. 11\n2. 11\n3. 11\n\n\n",
            "text/html": "<ol class=list-inline>\n\t<li>11</li>\n\t<li>11</li>\n\t<li>11</li>\n</ol>\n"
          },
          "metadata": {}
        },
        {
          "output_type": "display_data",
          "data": {
            "text/plain": " [1] 1 2 3 1 2 3 1 2 3 1 2 3 1 2 3 1 2 3 1 2 3 1 2 3",
            "text/latex": "\\begin{enumerate*}\n\\item 1\n\\item 2\n\\item 3\n\\item 1\n\\item 2\n\\item 3\n\\item 1\n\\item 2\n\\item 3\n\\item 1\n\\item 2\n\\item 3\n\\item 1\n\\item 2\n\\item 3\n\\item 1\n\\item 2\n\\item 3\n\\item 1\n\\item 2\n\\item 3\n\\item 1\n\\item 2\n\\item 3\n\\end{enumerate*}\n",
            "text/markdown": "1. 1\n2. 2\n3. 3\n4. 1\n5. 2\n6. 3\n7. 1\n8. 2\n9. 3\n10. 1\n11. 2\n12. 3\n13. 1\n14. 2\n15. 3\n16. 1\n17. 2\n18. 3\n19. 1\n20. 2\n21. 3\n22. 1\n23. 2\n24. 3\n\n\n",
            "text/html": "<ol class=list-inline>\n\t<li>1</li>\n\t<li>2</li>\n\t<li>3</li>\n\t<li>1</li>\n\t<li>2</li>\n\t<li>3</li>\n\t<li>1</li>\n\t<li>2</li>\n\t<li>3</li>\n\t<li>1</li>\n\t<li>2</li>\n\t<li>3</li>\n\t<li>1</li>\n\t<li>2</li>\n\t<li>3</li>\n\t<li>1</li>\n\t<li>2</li>\n\t<li>3</li>\n\t<li>1</li>\n\t<li>2</li>\n\t<li>3</li>\n\t<li>1</li>\n\t<li>2</li>\n\t<li>3</li>\n</ol>\n"
          },
          "metadata": {}
        },
        {
          "output_type": "display_data",
          "data": {
            "text/plain": "[1] 1 2 3 1 2 3 1 2",
            "text/latex": "\\begin{enumerate*}\n\\item 1\n\\item 2\n\\item 3\n\\item 1\n\\item 2\n\\item 3\n\\item 1\n\\item 2\n\\end{enumerate*}\n",
            "text/markdown": "1. 1\n2. 2\n3. 3\n4. 1\n5. 2\n6. 3\n7. 1\n8. 2\n\n\n",
            "text/html": "<ol class=list-inline>\n\t<li>1</li>\n\t<li>2</li>\n\t<li>3</li>\n\t<li>1</li>\n\t<li>2</li>\n\t<li>3</li>\n\t<li>1</li>\n\t<li>2</li>\n</ol>\n"
          },
          "metadata": {}
        },
        {
          "output_type": "display_data",
          "data": {
            "text/plain": "[1] 1 1 1 2 2 2 3 3 3",
            "text/latex": "\\begin{enumerate*}\n\\item 1\n\\item 1\n\\item 1\n\\item 2\n\\item 2\n\\item 2\n\\item 3\n\\item 3\n\\item 3\n\\end{enumerate*}\n",
            "text/markdown": "1. 1\n2. 1\n3. 1\n4. 2\n5. 2\n6. 2\n7. 3\n8. 3\n9. 3\n\n\n",
            "text/html": "<ol class=list-inline>\n\t<li>1</li>\n\t<li>1</li>\n\t<li>1</li>\n\t<li>2</li>\n\t<li>2</li>\n\t<li>2</li>\n\t<li>3</li>\n\t<li>3</li>\n\t<li>3</li>\n</ol>\n"
          },
          "metadata": {}
        },
        {
          "output_type": "display_data",
          "data": {
            "text/plain": "[1] 1 1 1 2 2 2 3 3",
            "text/latex": "\\begin{enumerate*}\n\\item 1\n\\item 1\n\\item 1\n\\item 2\n\\item 2\n\\item 2\n\\item 3\n\\item 3\n\\end{enumerate*}\n",
            "text/markdown": "1. 1\n2. 1\n3. 1\n4. 2\n5. 2\n6. 2\n7. 3\n8. 3\n\n\n",
            "text/html": "<ol class=list-inline>\n\t<li>1</li>\n\t<li>1</li>\n\t<li>1</li>\n\t<li>2</li>\n\t<li>2</li>\n\t<li>2</li>\n\t<li>3</li>\n\t<li>3</li>\n</ol>\n"
          },
          "metadata": {}
        }
      ]
    },
    {
      "metadata": {},
      "cell_type": "markdown",
      "source": "### 数列（seq）"
    },
    {
      "metadata": {
        "trusted": true
      },
      "cell_type": "code",
      "source": "seq(0,10,length=5) #0から10まで5等分する等差数列\nseq(0,11,by=2) #0から11まで2ずつ増加する等差数列",
      "execution_count": 4,
      "outputs": [
        {
          "output_type": "display_data",
          "data": {
            "text/plain": "[1]  0.0  2.5  5.0  7.5 10.0",
            "text/latex": "\\begin{enumerate*}\n\\item 0\n\\item 2.5\n\\item 5\n\\item 7.5\n\\item 10\n\\end{enumerate*}\n",
            "text/markdown": "1. 0\n2. 2.5\n3. 5\n4. 7.5\n5. 10\n\n\n",
            "text/html": "<ol class=list-inline>\n\t<li>0</li>\n\t<li>2.5</li>\n\t<li>5</li>\n\t<li>7.5</li>\n\t<li>10</li>\n</ol>\n"
          },
          "metadata": {}
        },
        {
          "output_type": "display_data",
          "data": {
            "text/plain": "[1]  0  2  4  6  8 10",
            "text/latex": "\\begin{enumerate*}\n\\item 0\n\\item 2\n\\item 4\n\\item 6\n\\item 8\n\\item 10\n\\end{enumerate*}\n",
            "text/markdown": "1. 0\n2. 2\n3. 4\n4. 6\n5. 8\n6. 10\n\n\n",
            "text/html": "<ol class=list-inline>\n\t<li>0</li>\n\t<li>2</li>\n\t<li>4</li>\n\t<li>6</li>\n\t<li>8</li>\n\t<li>10</li>\n</ol>\n"
          },
          "metadata": {}
        }
      ]
    },
    {
      "metadata": {},
      "cell_type": "markdown",
      "source": "### 重複した値の削除"
    },
    {
      "metadata": {
        "trusted": true,
        "scrolled": true
      },
      "cell_type": "code",
      "source": "unique(c(1,2,1,3,4,5,1,6))",
      "execution_count": 6,
      "outputs": [
        {
          "output_type": "display_data",
          "data": {
            "text/plain": "[1] 1 2 3 4 5 6",
            "text/latex": "\\begin{enumerate*}\n\\item 1\n\\item 2\n\\item 3\n\\item 4\n\\item 5\n\\item 6\n\\end{enumerate*}\n",
            "text/markdown": "1. 1\n2. 2\n3. 3\n4. 4\n5. 5\n6. 6\n\n\n",
            "text/html": "<ol class=list-inline>\n\t<li>1</li>\n\t<li>2</li>\n\t<li>3</li>\n\t<li>4</li>\n\t<li>5</li>\n\t<li>6</li>\n</ol>\n"
          },
          "metadata": {}
        }
      ]
    },
    {
      "metadata": {},
      "cell_type": "markdown",
      "source": "## ベクトル要素の取得"
    },
    {
      "metadata": {
        "trusted": true,
        "scrolled": true
      },
      "cell_type": "code",
      "source": "a<-c('A', 'B', 'C', 'D', 'E', 'F')\na[2]\na[-2]\n\n#インデックスをベクトルで指定する対応する値をまとめて取得できる．\na[c(5,2,3)]\na[1:3]\na[-1:-3]",
      "execution_count": 36,
      "outputs": [
        {
          "output_type": "display_data",
          "data": {
            "text/plain": "[1] \"B\"",
            "text/latex": "'B'",
            "text/markdown": "'B'",
            "text/html": "'B'"
          },
          "metadata": {}
        },
        {
          "output_type": "display_data",
          "data": {
            "text/plain": "[1] \"A\" \"C\" \"D\" \"E\" \"F\"",
            "text/latex": "\\begin{enumerate*}\n\\item 'A'\n\\item 'C'\n\\item 'D'\n\\item 'E'\n\\item 'F'\n\\end{enumerate*}\n",
            "text/markdown": "1. 'A'\n2. 'C'\n3. 'D'\n4. 'E'\n5. 'F'\n\n\n",
            "text/html": "<ol class=list-inline>\n\t<li>'A'</li>\n\t<li>'C'</li>\n\t<li>'D'</li>\n\t<li>'E'</li>\n\t<li>'F'</li>\n</ol>\n"
          },
          "metadata": {}
        },
        {
          "output_type": "display_data",
          "data": {
            "text/plain": "[1] \"E\" \"B\" \"C\"",
            "text/latex": "\\begin{enumerate*}\n\\item 'E'\n\\item 'B'\n\\item 'C'\n\\end{enumerate*}\n",
            "text/markdown": "1. 'E'\n2. 'B'\n3. 'C'\n\n\n",
            "text/html": "<ol class=list-inline>\n\t<li>'E'</li>\n\t<li>'B'</li>\n\t<li>'C'</li>\n</ol>\n"
          },
          "metadata": {}
        },
        {
          "output_type": "display_data",
          "data": {
            "text/plain": "[1] \"A\" \"B\" \"C\"",
            "text/latex": "\\begin{enumerate*}\n\\item 'A'\n\\item 'B'\n\\item 'C'\n\\end{enumerate*}\n",
            "text/markdown": "1. 'A'\n2. 'B'\n3. 'C'\n\n\n",
            "text/html": "<ol class=list-inline>\n\t<li>'A'</li>\n\t<li>'B'</li>\n\t<li>'C'</li>\n</ol>\n"
          },
          "metadata": {}
        },
        {
          "output_type": "display_data",
          "data": {
            "text/plain": "[1] \"D\" \"E\" \"F\"",
            "text/latex": "\\begin{enumerate*}\n\\item 'D'\n\\item 'E'\n\\item 'F'\n\\end{enumerate*}\n",
            "text/markdown": "1. 'D'\n2. 'E'\n3. 'F'\n\n\n",
            "text/html": "<ol class=list-inline>\n\t<li>'D'</li>\n\t<li>'E'</li>\n\t<li>'F'</li>\n</ol>\n"
          },
          "metadata": {}
        }
      ]
    },
    {
      "metadata": {},
      "cell_type": "markdown",
      "source": "## ベクトルの計算"
    },
    {
      "metadata": {
        "trusted": true,
        "scrolled": true
      },
      "cell_type": "code",
      "source": "a<-c(1,2,1,3)\nb<-c(1,2,2,4)\na+b #和\na-b #差\na*b #積\na/b #商",
      "execution_count": 7,
      "outputs": [
        {
          "output_type": "display_data",
          "data": {
            "text/plain": "[1] 2 4 3 7",
            "text/latex": "\\begin{enumerate*}\n\\item 2\n\\item 4\n\\item 3\n\\item 7\n\\end{enumerate*}\n",
            "text/markdown": "1. 2\n2. 4\n3. 3\n4. 7\n\n\n",
            "text/html": "<ol class=list-inline>\n\t<li>2</li>\n\t<li>4</li>\n\t<li>3</li>\n\t<li>7</li>\n</ol>\n"
          },
          "metadata": {}
        },
        {
          "output_type": "display_data",
          "data": {
            "text/plain": "[1]  0  0 -1 -1",
            "text/latex": "\\begin{enumerate*}\n\\item 0\n\\item 0\n\\item -1\n\\item -1\n\\end{enumerate*}\n",
            "text/markdown": "1. 0\n2. 0\n3. -1\n4. -1\n\n\n",
            "text/html": "<ol class=list-inline>\n\t<li>0</li>\n\t<li>0</li>\n\t<li>-1</li>\n\t<li>-1</li>\n</ol>\n"
          },
          "metadata": {}
        },
        {
          "output_type": "display_data",
          "data": {
            "text/plain": "[1]  1  4  2 12",
            "text/latex": "\\begin{enumerate*}\n\\item 1\n\\item 4\n\\item 2\n\\item 12\n\\end{enumerate*}\n",
            "text/markdown": "1. 1\n2. 4\n3. 2\n4. 12\n\n\n",
            "text/html": "<ol class=list-inline>\n\t<li>1</li>\n\t<li>4</li>\n\t<li>2</li>\n\t<li>12</li>\n</ol>\n"
          },
          "metadata": {}
        },
        {
          "output_type": "display_data",
          "data": {
            "text/plain": "[1] 1.00 1.00 0.50 0.75",
            "text/latex": "\\begin{enumerate*}\n\\item 1\n\\item 1\n\\item 0.5\n\\item 0.75\n\\end{enumerate*}\n",
            "text/markdown": "1. 1\n2. 1\n3. 0.5\n4. 0.75\n\n\n",
            "text/html": "<ol class=list-inline>\n\t<li>1</li>\n\t<li>1</li>\n\t<li>0.5</li>\n\t<li>0.75</li>\n</ol>\n"
          },
          "metadata": {}
        }
      ]
    },
    {
      "metadata": {},
      "cell_type": "markdown",
      "source": "## ベクトルの便利メソッド\n### 結合"
    },
    {
      "metadata": {
        "trusted": true
      },
      "cell_type": "code",
      "source": "a<-c(1,2,3)\nb<-c(4,5,6)\nc<-c(7,8,9)\nc(a,b,c)",
      "execution_count": 17,
      "outputs": [
        {
          "output_type": "display_data",
          "data": {
            "text/plain": "[1] 1 2 3 4 5 6 7 8 9",
            "text/latex": "\\begin{enumerate*}\n\\item 1\n\\item 2\n\\item 3\n\\item 4\n\\item 5\n\\item 6\n\\item 7\n\\item 8\n\\item 9\n\\end{enumerate*}\n",
            "text/markdown": "1. 1\n2. 2\n3. 3\n4. 4\n5. 5\n6. 6\n7. 7\n8. 8\n9. 9\n\n\n",
            "text/html": "<ol class=list-inline>\n\t<li>1</li>\n\t<li>2</li>\n\t<li>3</li>\n\t<li>4</li>\n\t<li>5</li>\n\t<li>6</li>\n\t<li>7</li>\n\t<li>8</li>\n\t<li>9</li>\n</ol>\n"
          },
          "metadata": {}
        }
      ]
    },
    {
      "metadata": {},
      "cell_type": "markdown",
      "source": "### 挿入"
    },
    {
      "metadata": {
        "trusted": true
      },
      "cell_type": "code",
      "source": "a<-1:9\nb<-c(0,-1,-2)\nappend(a, b, after=0)\nappend(a, b, after=1)",
      "execution_count": 22,
      "outputs": [
        {
          "output_type": "display_data",
          "data": {
            "text/plain": " [1]  0 -1 -2  1  2  3  4  5  6  7  8  9",
            "text/latex": "\\begin{enumerate*}\n\\item 0\n\\item -1\n\\item -2\n\\item 1\n\\item 2\n\\item 3\n\\item 4\n\\item 5\n\\item 6\n\\item 7\n\\item 8\n\\item 9\n\\end{enumerate*}\n",
            "text/markdown": "1. 0\n2. -1\n3. -2\n4. 1\n5. 2\n6. 3\n7. 4\n8. 5\n9. 6\n10. 7\n11. 8\n12. 9\n\n\n",
            "text/html": "<ol class=list-inline>\n\t<li>0</li>\n\t<li>-1</li>\n\t<li>-2</li>\n\t<li>1</li>\n\t<li>2</li>\n\t<li>3</li>\n\t<li>4</li>\n\t<li>5</li>\n\t<li>6</li>\n\t<li>7</li>\n\t<li>8</li>\n\t<li>9</li>\n</ol>\n"
          },
          "metadata": {}
        },
        {
          "output_type": "display_data",
          "data": {
            "text/plain": " [1]  1  0 -1 -2  2  3  4  5  6  7  8  9",
            "text/latex": "\\begin{enumerate*}\n\\item 1\n\\item 0\n\\item -1\n\\item -2\n\\item 2\n\\item 3\n\\item 4\n\\item 5\n\\item 6\n\\item 7\n\\item 8\n\\item 9\n\\end{enumerate*}\n",
            "text/markdown": "1. 1\n2. 0\n3. -1\n4. -2\n5. 2\n6. 3\n7. 4\n8. 5\n9. 6\n10. 7\n11. 8\n12. 9\n\n\n",
            "text/html": "<ol class=list-inline>\n\t<li>1</li>\n\t<li>0</li>\n\t<li>-1</li>\n\t<li>-2</li>\n\t<li>2</li>\n\t<li>3</li>\n\t<li>4</li>\n\t<li>5</li>\n\t<li>6</li>\n\t<li>7</li>\n\t<li>8</li>\n\t<li>9</li>\n</ol>\n"
          },
          "metadata": {}
        }
      ]
    },
    {
      "metadata": {},
      "cell_type": "markdown",
      "source": "### 置換"
    },
    {
      "metadata": {
        "trusted": true,
        "scrolled": true
      },
      "cell_type": "code",
      "source": "a<-1:9\nreplace(a, c(2,5,6), 10) #2,5,6番目を10に置換する．\nreplace(a, which(a>5), 10) #5以上の要素を10に置換する．\n\n#オマケ\nwhich(c(8,9,3,9)!=9) #whichは条件に一致した要素のインデックスをベクトル形式で返す．",
      "execution_count": 45,
      "outputs": [
        {
          "output_type": "display_data",
          "data": {
            "text/plain": "[1]  1 10  3  4 10 10  7  8  9",
            "text/latex": "\\begin{enumerate*}\n\\item 1\n\\item 10\n\\item 3\n\\item 4\n\\item 10\n\\item 10\n\\item 7\n\\item 8\n\\item 9\n\\end{enumerate*}\n",
            "text/markdown": "1. 1\n2. 10\n3. 3\n4. 4\n5. 10\n6. 10\n7. 7\n8. 8\n9. 9\n\n\n",
            "text/html": "<ol class=list-inline>\n\t<li>1</li>\n\t<li>10</li>\n\t<li>3</li>\n\t<li>4</li>\n\t<li>10</li>\n\t<li>10</li>\n\t<li>7</li>\n\t<li>8</li>\n\t<li>9</li>\n</ol>\n"
          },
          "metadata": {}
        },
        {
          "output_type": "display_data",
          "data": {
            "text/plain": "[1]  1  2  3  4  5 10 10 10 10",
            "text/latex": "\\begin{enumerate*}\n\\item 1\n\\item 2\n\\item 3\n\\item 4\n\\item 5\n\\item 10\n\\item 10\n\\item 10\n\\item 10\n\\end{enumerate*}\n",
            "text/markdown": "1. 1\n2. 2\n3. 3\n4. 4\n5. 5\n6. 10\n7. 10\n8. 10\n9. 10\n\n\n",
            "text/html": "<ol class=list-inline>\n\t<li>1</li>\n\t<li>2</li>\n\t<li>3</li>\n\t<li>4</li>\n\t<li>5</li>\n\t<li>10</li>\n\t<li>10</li>\n\t<li>10</li>\n\t<li>10</li>\n</ol>\n"
          },
          "metadata": {}
        },
        {
          "output_type": "display_data",
          "data": {
            "text/plain": "[1] 1 3",
            "text/latex": "\\begin{enumerate*}\n\\item 1\n\\item 3\n\\end{enumerate*}\n",
            "text/markdown": "1. 1\n2. 3\n\n\n",
            "text/html": "<ol class=list-inline>\n\t<li>1</li>\n\t<li>3</li>\n</ol>\n"
          },
          "metadata": {}
        }
      ]
    },
    {
      "metadata": {},
      "cell_type": "markdown",
      "source": "### ベクトルの要素数の取得"
    },
    {
      "metadata": {
        "trusted": true
      },
      "cell_type": "code",
      "source": "a<-0:4\nlength(a)",
      "execution_count": 78,
      "outputs": [
        {
          "output_type": "display_data",
          "data": {
            "text/plain": "[1] 5",
            "text/latex": "5",
            "text/markdown": "5",
            "text/html": "5"
          },
          "metadata": {}
        }
      ]
    },
    {
      "metadata": {},
      "cell_type": "markdown",
      "source": "### ベクトルの並べ替え"
    },
    {
      "metadata": {
        "trusted": true
      },
      "cell_type": "code",
      "source": "x<-c(53,32,29,81,29,10,47)\nsort(x) #昇順\nsort(x,decreasing=TRUE) #降順\norder(x) #orderはxをソートするためのインデックスをベクトル型で返す．\nx[order(x)] #orderを使って参照すると並び替え済みのベクトルが得られる．",
      "execution_count": 34,
      "outputs": [
        {
          "output_type": "display_data",
          "data": {
            "text/plain": "[1] 10 29 29 32 47 53 81",
            "text/latex": "\\begin{enumerate*}\n\\item 10\n\\item 29\n\\item 29\n\\item 32\n\\item 47\n\\item 53\n\\item 81\n\\end{enumerate*}\n",
            "text/markdown": "1. 10\n2. 29\n3. 29\n4. 32\n5. 47\n6. 53\n7. 81\n\n\n",
            "text/html": "<ol class=list-inline>\n\t<li>10</li>\n\t<li>29</li>\n\t<li>29</li>\n\t<li>32</li>\n\t<li>47</li>\n\t<li>53</li>\n\t<li>81</li>\n</ol>\n"
          },
          "metadata": {}
        },
        {
          "output_type": "display_data",
          "data": {
            "text/plain": "[1] 81 53 47 32 29 29 10",
            "text/latex": "\\begin{enumerate*}\n\\item 81\n\\item 53\n\\item 47\n\\item 32\n\\item 29\n\\item 29\n\\item 10\n\\end{enumerate*}\n",
            "text/markdown": "1. 81\n2. 53\n3. 47\n4. 32\n5. 29\n6. 29\n7. 10\n\n\n",
            "text/html": "<ol class=list-inline>\n\t<li>81</li>\n\t<li>53</li>\n\t<li>47</li>\n\t<li>32</li>\n\t<li>29</li>\n\t<li>29</li>\n\t<li>10</li>\n</ol>\n"
          },
          "metadata": {}
        },
        {
          "output_type": "display_data",
          "data": {
            "text/plain": "[1] 6 3 5 2 7 1 4",
            "text/latex": "\\begin{enumerate*}\n\\item 6\n\\item 3\n\\item 5\n\\item 2\n\\item 7\n\\item 1\n\\item 4\n\\end{enumerate*}\n",
            "text/markdown": "1. 6\n2. 3\n3. 5\n4. 2\n5. 7\n6. 1\n7. 4\n\n\n",
            "text/html": "<ol class=list-inline>\n\t<li>6</li>\n\t<li>3</li>\n\t<li>5</li>\n\t<li>2</li>\n\t<li>7</li>\n\t<li>1</li>\n\t<li>4</li>\n</ol>\n"
          },
          "metadata": {}
        },
        {
          "output_type": "display_data",
          "data": {
            "text/plain": "[1] 10 29 29 32 47 53 81",
            "text/latex": "\\begin{enumerate*}\n\\item 10\n\\item 29\n\\item 29\n\\item 32\n\\item 47\n\\item 53\n\\item 81\n\\end{enumerate*}\n",
            "text/markdown": "1. 10\n2. 29\n3. 29\n4. 32\n5. 47\n6. 53\n7. 81\n\n\n",
            "text/html": "<ol class=list-inline>\n\t<li>10</li>\n\t<li>29</li>\n\t<li>29</li>\n\t<li>32</li>\n\t<li>47</li>\n\t<li>53</li>\n\t<li>81</li>\n</ol>\n"
          },
          "metadata": {}
        }
      ]
    },
    {
      "metadata": {},
      "cell_type": "markdown",
      "source": "---\n# 行列\n2次元的にデータを保持するためのオブジェクトです．\n行列を使うことで行列計算に使う便利な関数を利用することができます．\n\n## 行列の作成"
    },
    {
      "metadata": {
        "trusted": true
      },
      "cell_type": "code",
      "source": " matrix(1:12, nrow=4, ncol=3)  #nrowが行，ncolが列\n matrix(1:12, nrow=4, ncol=3, byrow=T)  #列方向から先に埋めたいときはbyrow=T",
      "execution_count": 53,
      "outputs": [
        {
          "output_type": "display_data",
          "data": {
            "text/plain": "     [,1] [,2] [,3]\n[1,] 1    5     9  \n[2,] 2    6    10  \n[3,] 3    7    11  \n[4,] 4    8    12  ",
            "text/latex": "\\begin{tabular}{lll}\n\t 1  & 5  &  9\\\\\n\t 2  & 6  & 10\\\\\n\t 3  & 7  & 11\\\\\n\t 4  & 8  & 12\\\\\n\\end{tabular}\n",
            "text/markdown": "\n| 1  | 5  |  9 |\n| 2  | 6  | 10 |\n| 3  | 7  | 11 |\n| 4  | 8  | 12 |\n\n",
            "text/html": "<table>\n<tbody>\n\t<tr><td>1 </td><td>5 </td><td> 9</td></tr>\n\t<tr><td>2 </td><td>6 </td><td>10</td></tr>\n\t<tr><td>3 </td><td>7 </td><td>11</td></tr>\n\t<tr><td>4 </td><td>8 </td><td>12</td></tr>\n</tbody>\n</table>\n"
          },
          "metadata": {}
        },
        {
          "output_type": "display_data",
          "data": {
            "text/plain": "     [,1] [,2] [,3]\n[1,]  1    2    3  \n[2,]  4    5    6  \n[3,]  7    8    9  \n[4,] 10   11   12  ",
            "text/latex": "\\begin{tabular}{lll}\n\t  1 &  2 &  3\\\\\n\t  4 &  5 &  6\\\\\n\t  7 &  8 &  9\\\\\n\t 10 & 11 & 12\\\\\n\\end{tabular}\n",
            "text/markdown": "\n|  1 |  2 |  3 |\n|  4 |  5 |  6 |\n|  7 |  8 |  9 |\n| 10 | 11 | 12 |\n\n",
            "text/html": "<table>\n<tbody>\n\t<tr><td> 1</td><td> 2</td><td> 3</td></tr>\n\t<tr><td> 4</td><td> 5</td><td> 6</td></tr>\n\t<tr><td> 7</td><td> 8</td><td> 9</td></tr>\n\t<tr><td>10</td><td>11</td><td>12</td></tr>\n</tbody>\n</table>\n"
          },
          "metadata": {}
        }
      ]
    },
    {
      "metadata": {},
      "cell_type": "markdown",
      "source": "## 行列要素の取得"
    },
    {
      "metadata": {
        "trusted": true
      },
      "cell_type": "code",
      "source": "a<-matrix(1:9,nrow=3,ncol=3,byrow=T)\na #行列の中身[[1,2,3], [4,5,6], [7,8,9]]\na[1,2] #1行2列目の要素を取得 [2]\na[1:3,1:2] #1〜3行目，および1〜2列目の範囲を取得 [[1,2], [4,5], [7,8]]\na[-2,-1] #2行目または1列目でない範囲を取得 [[2,3], [8,9]]\na[-1:-2,-2:-3] #1〜2行目および2〜3列目でない範囲を取得 [7]\nwhich(a>3, arr.ind=TRUE) #3以上の要素のインデックスを取得 (2行目の1列目etc...)\na[a>3] #3以上の要素を取得 [4,5,6,7,8,9]\na[a>3]<-0 #3以上の要素に0を代入\na #[[1,2,3], [0,0,0], [0,0,0]]",
      "execution_count": 102,
      "outputs": [
        {
          "output_type": "display_data",
          "data": {
            "text/plain": "     [,1] [,2] [,3]\n[1,] 1    2    3   \n[2,] 4    5    6   \n[3,] 7    8    9   ",
            "text/latex": "\\begin{tabular}{lll}\n\t 1 & 2 & 3\\\\\n\t 4 & 5 & 6\\\\\n\t 7 & 8 & 9\\\\\n\\end{tabular}\n",
            "text/markdown": "\n| 1 | 2 | 3 |\n| 4 | 5 | 6 |\n| 7 | 8 | 9 |\n\n",
            "text/html": "<table>\n<tbody>\n\t<tr><td>1</td><td>2</td><td>3</td></tr>\n\t<tr><td>4</td><td>5</td><td>6</td></tr>\n\t<tr><td>7</td><td>8</td><td>9</td></tr>\n</tbody>\n</table>\n"
          },
          "metadata": {}
        },
        {
          "output_type": "display_data",
          "data": {
            "text/plain": "[1] 2",
            "text/latex": "2",
            "text/markdown": "2",
            "text/html": "2"
          },
          "metadata": {}
        },
        {
          "output_type": "display_data",
          "data": {
            "text/plain": "     [,1] [,2]\n[1,] 1    2   \n[2,] 4    5   \n[3,] 7    8   ",
            "text/latex": "\\begin{tabular}{ll}\n\t 1 & 2\\\\\n\t 4 & 5\\\\\n\t 7 & 8\\\\\n\\end{tabular}\n",
            "text/markdown": "\n| 1 | 2 |\n| 4 | 5 |\n| 7 | 8 |\n\n",
            "text/html": "<table>\n<tbody>\n\t<tr><td>1</td><td>2</td></tr>\n\t<tr><td>4</td><td>5</td></tr>\n\t<tr><td>7</td><td>8</td></tr>\n</tbody>\n</table>\n"
          },
          "metadata": {}
        },
        {
          "output_type": "display_data",
          "data": {
            "text/plain": "     [,1] [,2]\n[1,] 2    3   \n[2,] 8    9   ",
            "text/latex": "\\begin{tabular}{ll}\n\t 2 & 3\\\\\n\t 8 & 9\\\\\n\\end{tabular}\n",
            "text/markdown": "\n| 2 | 3 |\n| 8 | 9 |\n\n",
            "text/html": "<table>\n<tbody>\n\t<tr><td>2</td><td>3</td></tr>\n\t<tr><td>8</td><td>9</td></tr>\n</tbody>\n</table>\n"
          },
          "metadata": {}
        },
        {
          "output_type": "display_data",
          "data": {
            "text/plain": "[1] 7",
            "text/latex": "7",
            "text/markdown": "7",
            "text/html": "7"
          },
          "metadata": {}
        },
        {
          "output_type": "display_data",
          "data": {
            "text/plain": "     row col\n[1,] 2   1  \n[2,] 3   1  \n[3,] 2   2  \n[4,] 3   2  \n[5,] 2   3  \n[6,] 3   3  ",
            "text/latex": "\\begin{tabular}{ll}\n row & col\\\\\n\\hline\n\t 2 & 1\\\\\n\t 3 & 1\\\\\n\t 2 & 2\\\\\n\t 3 & 2\\\\\n\t 2 & 3\\\\\n\t 3 & 3\\\\\n\\end{tabular}\n",
            "text/markdown": "\n| row | col |\n|---|---|\n| 2 | 1 |\n| 3 | 1 |\n| 2 | 2 |\n| 3 | 2 |\n| 2 | 3 |\n| 3 | 3 |\n\n",
            "text/html": "<table>\n<thead><tr><th scope=col>row</th><th scope=col>col</th></tr></thead>\n<tbody>\n\t<tr><td>2</td><td>1</td></tr>\n\t<tr><td>3</td><td>1</td></tr>\n\t<tr><td>2</td><td>2</td></tr>\n\t<tr><td>3</td><td>2</td></tr>\n\t<tr><td>2</td><td>3</td></tr>\n\t<tr><td>3</td><td>3</td></tr>\n</tbody>\n</table>\n"
          },
          "metadata": {}
        },
        {
          "output_type": "display_data",
          "data": {
            "text/plain": "[1] 4 7 5 8 6 9",
            "text/latex": "\\begin{enumerate*}\n\\item 4\n\\item 7\n\\item 5\n\\item 8\n\\item 6\n\\item 9\n\\end{enumerate*}\n",
            "text/markdown": "1. 4\n2. 7\n3. 5\n4. 8\n5. 6\n6. 9\n\n\n",
            "text/html": "<ol class=list-inline>\n\t<li>4</li>\n\t<li>7</li>\n\t<li>5</li>\n\t<li>8</li>\n\t<li>6</li>\n\t<li>9</li>\n</ol>\n"
          },
          "metadata": {}
        },
        {
          "output_type": "display_data",
          "data": {
            "text/plain": "     [,1] [,2] [,3]\n[1,] 1    2    3   \n[2,] 0    0    0   \n[3,] 0    0    0   ",
            "text/latex": "\\begin{tabular}{lll}\n\t 1 & 2 & 3\\\\\n\t 0 & 0 & 0\\\\\n\t 0 & 0 & 0\\\\\n\\end{tabular}\n",
            "text/markdown": "\n| 1 | 2 | 3 |\n| 0 | 0 | 0 |\n| 0 | 0 | 0 |\n\n",
            "text/html": "<table>\n<tbody>\n\t<tr><td>1</td><td>2</td><td>3</td></tr>\n\t<tr><td>0</td><td>0</td><td>0</td></tr>\n\t<tr><td>0</td><td>0</td><td>0</td></tr>\n</tbody>\n</table>\n"
          },
          "metadata": {}
        }
      ]
    },
    {
      "metadata": {},
      "cell_type": "markdown",
      "source": "## 行列の計算"
    },
    {
      "metadata": {
        "trusted": true
      },
      "cell_type": "code",
      "source": "a<-matrix(1:9,nrow=3,ncol=3)\nb<-matrix(1:9,nrow=3,ncol=3)\na\n10*a #各要素を10倍にする．\na*b #各要素の積を計算する．a[ i, j ]*b[ i, j ]を計算している．行列の積ではないので注意．\na%*%b #行列の積はこちら．Σa[ i, j ]*b[ j, i ]を計算している．\na+b #行列の和\na-b #行列の差",
      "execution_count": 112,
      "outputs": [
        {
          "output_type": "display_data",
          "data": {
            "text/plain": "     [,1] [,2] [,3]\n[1,] 1    4    7   \n[2,] 2    5    8   \n[3,] 3    6    9   ",
            "text/latex": "\\begin{tabular}{lll}\n\t 1 & 4 & 7\\\\\n\t 2 & 5 & 8\\\\\n\t 3 & 6 & 9\\\\\n\\end{tabular}\n",
            "text/markdown": "\n| 1 | 4 | 7 |\n| 2 | 5 | 8 |\n| 3 | 6 | 9 |\n\n",
            "text/html": "<table>\n<tbody>\n\t<tr><td>1</td><td>4</td><td>7</td></tr>\n\t<tr><td>2</td><td>5</td><td>8</td></tr>\n\t<tr><td>3</td><td>6</td><td>9</td></tr>\n</tbody>\n</table>\n"
          },
          "metadata": {}
        },
        {
          "output_type": "display_data",
          "data": {
            "text/plain": "     [,1] [,2] [,3]\n[1,] 10   40   70  \n[2,] 20   50   80  \n[3,] 30   60   90  ",
            "text/latex": "\\begin{tabular}{lll}\n\t 10 & 40 & 70\\\\\n\t 20 & 50 & 80\\\\\n\t 30 & 60 & 90\\\\\n\\end{tabular}\n",
            "text/markdown": "\n| 10 | 40 | 70 |\n| 20 | 50 | 80 |\n| 30 | 60 | 90 |\n\n",
            "text/html": "<table>\n<tbody>\n\t<tr><td>10</td><td>40</td><td>70</td></tr>\n\t<tr><td>20</td><td>50</td><td>80</td></tr>\n\t<tr><td>30</td><td>60</td><td>90</td></tr>\n</tbody>\n</table>\n"
          },
          "metadata": {}
        },
        {
          "output_type": "display_data",
          "data": {
            "text/plain": "     [,1] [,2] [,3]\n[1,] 1    16   49  \n[2,] 4    25   64  \n[3,] 9    36   81  ",
            "text/latex": "\\begin{tabular}{lll}\n\t 1  & 16 & 49\\\\\n\t 4  & 25 & 64\\\\\n\t 9  & 36 & 81\\\\\n\\end{tabular}\n",
            "text/markdown": "\n| 1  | 16 | 49 |\n| 4  | 25 | 64 |\n| 9  | 36 | 81 |\n\n",
            "text/html": "<table>\n<tbody>\n\t<tr><td>1 </td><td>16</td><td>49</td></tr>\n\t<tr><td>4 </td><td>25</td><td>64</td></tr>\n\t<tr><td>9 </td><td>36</td><td>81</td></tr>\n</tbody>\n</table>\n"
          },
          "metadata": {}
        },
        {
          "output_type": "display_data",
          "data": {
            "text/plain": "     [,1] [,2] [,3]\n[1,] 30   66   102 \n[2,] 36   81   126 \n[3,] 42   96   150 ",
            "text/latex": "\\begin{tabular}{lll}\n\t 30  & 66  & 102\\\\\n\t 36  & 81  & 126\\\\\n\t 42  & 96  & 150\\\\\n\\end{tabular}\n",
            "text/markdown": "\n| 30  | 66  | 102 |\n| 36  | 81  | 126 |\n| 42  | 96  | 150 |\n\n",
            "text/html": "<table>\n<tbody>\n\t<tr><td>30 </td><td>66 </td><td>102</td></tr>\n\t<tr><td>36 </td><td>81 </td><td>126</td></tr>\n\t<tr><td>42 </td><td>96 </td><td>150</td></tr>\n</tbody>\n</table>\n"
          },
          "metadata": {}
        },
        {
          "output_type": "display_data",
          "data": {
            "text/plain": "     [,1] [,2] [,3]\n[1,] 2     8   14  \n[2,] 4    10   16  \n[3,] 6    12   18  ",
            "text/latex": "\\begin{tabular}{lll}\n\t 2  &  8 & 14\\\\\n\t 4  & 10 & 16\\\\\n\t 6  & 12 & 18\\\\\n\\end{tabular}\n",
            "text/markdown": "\n| 2  |  8 | 14 |\n| 4  | 10 | 16 |\n| 6  | 12 | 18 |\n\n",
            "text/html": "<table>\n<tbody>\n\t<tr><td>2 </td><td> 8</td><td>14</td></tr>\n\t<tr><td>4 </td><td>10</td><td>16</td></tr>\n\t<tr><td>6 </td><td>12</td><td>18</td></tr>\n</tbody>\n</table>\n"
          },
          "metadata": {}
        },
        {
          "output_type": "display_data",
          "data": {
            "text/plain": "     [,1] [,2] [,3]\n[1,] 0    0    0   \n[2,] 0    0    0   \n[3,] 0    0    0   ",
            "text/latex": "\\begin{tabular}{lll}\n\t 0 & 0 & 0\\\\\n\t 0 & 0 & 0\\\\\n\t 0 & 0 & 0\\\\\n\\end{tabular}\n",
            "text/markdown": "\n| 0 | 0 | 0 |\n| 0 | 0 | 0 |\n| 0 | 0 | 0 |\n\n",
            "text/html": "<table>\n<tbody>\n\t<tr><td>0</td><td>0</td><td>0</td></tr>\n\t<tr><td>0</td><td>0</td><td>0</td></tr>\n\t<tr><td>0</td><td>0</td><td>0</td></tr>\n</tbody>\n</table>\n"
          },
          "metadata": {}
        }
      ]
    },
    {
      "metadata": {},
      "cell_type": "markdown",
      "source": "## 行列の大きさ"
    },
    {
      "metadata": {
        "trusted": true,
        "scrolled": true
      },
      "cell_type": "code",
      "source": "a<-matrix(1:6,nrow=2,ncol=3,byrow=T)\na\ndim(a) #（行数, 列数）\nnrow(a) #行数\nncol(a) #列数\nlength(a) #要素数",
      "execution_count": 89,
      "outputs": [
        {
          "output_type": "display_data",
          "data": {
            "text/plain": "     [,1] [,2] [,3]\n[1,] 1    2    3   \n[2,] 4    5    6   ",
            "text/latex": "\\begin{tabular}{lll}\n\t 1 & 2 & 3\\\\\n\t 4 & 5 & 6\\\\\n\\end{tabular}\n",
            "text/markdown": "\n| 1 | 2 | 3 |\n| 4 | 5 | 6 |\n\n",
            "text/html": "<table>\n<tbody>\n\t<tr><td>1</td><td>2</td><td>3</td></tr>\n\t<tr><td>4</td><td>5</td><td>6</td></tr>\n</tbody>\n</table>\n"
          },
          "metadata": {}
        },
        {
          "output_type": "display_data",
          "data": {
            "text/plain": "[1] 2 3",
            "text/latex": "\\begin{enumerate*}\n\\item 2\n\\item 3\n\\end{enumerate*}\n",
            "text/markdown": "1. 2\n2. 3\n\n\n",
            "text/html": "<ol class=list-inline>\n\t<li>2</li>\n\t<li>3</li>\n</ol>\n"
          },
          "metadata": {}
        },
        {
          "output_type": "display_data",
          "data": {
            "text/plain": "[1] 2",
            "text/latex": "2",
            "text/markdown": "2",
            "text/html": "2"
          },
          "metadata": {}
        },
        {
          "output_type": "display_data",
          "data": {
            "text/plain": "[1] 3",
            "text/latex": "3",
            "text/markdown": "3",
            "text/html": "3"
          },
          "metadata": {}
        },
        {
          "output_type": "display_data",
          "data": {
            "text/plain": "[1] 6",
            "text/latex": "6",
            "text/markdown": "6",
            "text/html": "6"
          },
          "metadata": {}
        }
      ]
    },
    {
      "metadata": {},
      "cell_type": "markdown",
      "source": "## 行列の合計とか平均とか"
    },
    {
      "metadata": {
        "trusted": true
      },
      "cell_type": "code",
      "source": "a<-matrix(1:9,nrow=3, ncol=3,byrow=T)\na\nrowSums(a) #行の合計 [6,15,24]\ncolSums(a) #列の合計 [12,15,18]\nrowMeans(a) #行の平均 [2,5,8]\ncolMeans(a) #列の平均 [4,5,6]\nsum(a) #全要素の合計 [45]\nmean(a) #全要素の平均 [5]",
      "execution_count": 85,
      "outputs": [
        {
          "output_type": "display_data",
          "data": {
            "text/plain": "     [,1] [,2] [,3]\n[1,] 1    2    3   \n[2,] 4    5    6   \n[3,] 7    8    9   ",
            "text/latex": "\\begin{tabular}{lll}\n\t 1 & 2 & 3\\\\\n\t 4 & 5 & 6\\\\\n\t 7 & 8 & 9\\\\\n\\end{tabular}\n",
            "text/markdown": "\n| 1 | 2 | 3 |\n| 4 | 5 | 6 |\n| 7 | 8 | 9 |\n\n",
            "text/html": "<table>\n<tbody>\n\t<tr><td>1</td><td>2</td><td>3</td></tr>\n\t<tr><td>4</td><td>5</td><td>6</td></tr>\n\t<tr><td>7</td><td>8</td><td>9</td></tr>\n</tbody>\n</table>\n"
          },
          "metadata": {}
        },
        {
          "output_type": "display_data",
          "data": {
            "text/plain": "[1]  6 15 24",
            "text/latex": "\\begin{enumerate*}\n\\item 6\n\\item 15\n\\item 24\n\\end{enumerate*}\n",
            "text/markdown": "1. 6\n2. 15\n3. 24\n\n\n",
            "text/html": "<ol class=list-inline>\n\t<li>6</li>\n\t<li>15</li>\n\t<li>24</li>\n</ol>\n"
          },
          "metadata": {}
        },
        {
          "output_type": "display_data",
          "data": {
            "text/plain": "[1] 12 15 18",
            "text/latex": "\\begin{enumerate*}\n\\item 12\n\\item 15\n\\item 18\n\\end{enumerate*}\n",
            "text/markdown": "1. 12\n2. 15\n3. 18\n\n\n",
            "text/html": "<ol class=list-inline>\n\t<li>12</li>\n\t<li>15</li>\n\t<li>18</li>\n</ol>\n"
          },
          "metadata": {}
        },
        {
          "output_type": "display_data",
          "data": {
            "text/plain": "[1] 2 5 8",
            "text/latex": "\\begin{enumerate*}\n\\item 2\n\\item 5\n\\item 8\n\\end{enumerate*}\n",
            "text/markdown": "1. 2\n2. 5\n3. 8\n\n\n",
            "text/html": "<ol class=list-inline>\n\t<li>2</li>\n\t<li>5</li>\n\t<li>8</li>\n</ol>\n"
          },
          "metadata": {}
        },
        {
          "output_type": "display_data",
          "data": {
            "text/plain": "[1] 4 5 6",
            "text/latex": "\\begin{enumerate*}\n\\item 4\n\\item 5\n\\item 6\n\\end{enumerate*}\n",
            "text/markdown": "1. 4\n2. 5\n3. 6\n\n\n",
            "text/html": "<ol class=list-inline>\n\t<li>4</li>\n\t<li>5</li>\n\t<li>6</li>\n</ol>\n"
          },
          "metadata": {}
        },
        {
          "output_type": "display_data",
          "data": {
            "text/plain": "[1] 45",
            "text/latex": "45",
            "text/markdown": "45",
            "text/html": "45"
          },
          "metadata": {}
        },
        {
          "output_type": "display_data",
          "data": {
            "text/plain": "[1] 5",
            "text/latex": "5",
            "text/markdown": "5",
            "text/html": "5"
          },
          "metadata": {}
        }
      ]
    },
    {
      "metadata": {},
      "cell_type": "markdown",
      "source": "## 行列の転置"
    },
    {
      "metadata": {
        "trusted": true
      },
      "cell_type": "code",
      "source": "a<-matrix(1:9,nrow=3, ncol=3,byrow=T)\na\nt(a)",
      "execution_count": 114,
      "outputs": [
        {
          "output_type": "display_data",
          "data": {
            "text/plain": "     [,1] [,2] [,3]\n[1,] 1    2    3   \n[2,] 4    5    6   \n[3,] 7    8    9   ",
            "text/latex": "\\begin{tabular}{lll}\n\t 1 & 2 & 3\\\\\n\t 4 & 5 & 6\\\\\n\t 7 & 8 & 9\\\\\n\\end{tabular}\n",
            "text/markdown": "\n| 1 | 2 | 3 |\n| 4 | 5 | 6 |\n| 7 | 8 | 9 |\n\n",
            "text/html": "<table>\n<tbody>\n\t<tr><td>1</td><td>2</td><td>3</td></tr>\n\t<tr><td>4</td><td>5</td><td>6</td></tr>\n\t<tr><td>7</td><td>8</td><td>9</td></tr>\n</tbody>\n</table>\n"
          },
          "metadata": {}
        },
        {
          "output_type": "display_data",
          "data": {
            "text/plain": "     [,1] [,2] [,3]\n[1,] 1    4    7   \n[2,] 2    5    8   \n[3,] 3    6    9   ",
            "text/latex": "\\begin{tabular}{lll}\n\t 1 & 4 & 7\\\\\n\t 2 & 5 & 8\\\\\n\t 3 & 6 & 9\\\\\n\\end{tabular}\n",
            "text/markdown": "\n| 1 | 4 | 7 |\n| 2 | 5 | 8 |\n| 3 | 6 | 9 |\n\n",
            "text/html": "<table>\n<tbody>\n\t<tr><td>1</td><td>4</td><td>7</td></tr>\n\t<tr><td>2</td><td>5</td><td>8</td></tr>\n\t<tr><td>3</td><td>6</td><td>9</td></tr>\n</tbody>\n</table>\n"
          },
          "metadata": {}
        }
      ]
    },
    {
      "metadata": {},
      "cell_type": "markdown",
      "source": "## 逆行列の計算"
    },
    {
      "metadata": {
        "trusted": true,
        "scrolled": false
      },
      "cell_type": "code",
      "source": "a<-matrix(c(1,1,-1,-2,0,1,0,2,1),nrow=3, ncol=3)\na #もとの行列の表示\nsolve(a) #逆行列の表示\na%*%solve(a) #もとの行列と逆行列の積をとると単位行列になることが確認できる．",
      "execution_count": 129,
      "outputs": [
        {
          "output_type": "display_data",
          "data": {
            "text/plain": "     [,1] [,2] [,3]\n[1,]  1   -2   0   \n[2,]  1    0   2   \n[3,] -1    1   1   ",
            "text/latex": "\\begin{tabular}{lll}\n\t  1 & -2 & 0 \\\\\n\t  1 &  0 & 2 \\\\\n\t -1 &  1 & 1 \\\\\n\\end{tabular}\n",
            "text/markdown": "\n|  1 | -2 | 0  |\n|  1 |  0 | 2  |\n| -1 |  1 | 1  |\n\n",
            "text/html": "<table>\n<tbody>\n\t<tr><td> 1</td><td>-2</td><td>0 </td></tr>\n\t<tr><td> 1</td><td> 0</td><td>2 </td></tr>\n\t<tr><td>-1</td><td> 1</td><td>1 </td></tr>\n</tbody>\n</table>\n"
          },
          "metadata": {}
        },
        {
          "output_type": "display_data",
          "data": {
            "text/plain": "     [,1]  [,2] [,3]\n[1,] -0.50 0.50 -1.0\n[2,] -0.75 0.25 -0.5\n[3,]  0.25 0.25  0.5",
            "text/latex": "\\begin{tabular}{lll}\n\t -0.50 & 0.50  & -1.0 \\\\\n\t -0.75 & 0.25  & -0.5 \\\\\n\t  0.25 & 0.25  &  0.5 \\\\\n\\end{tabular}\n",
            "text/markdown": "\n| -0.50 | 0.50  | -1.0  |\n| -0.75 | 0.25  | -0.5  |\n|  0.25 | 0.25  |  0.5  |\n\n",
            "text/html": "<table>\n<tbody>\n\t<tr><td>-0.50</td><td>0.50 </td><td>-1.0 </td></tr>\n\t<tr><td>-0.75</td><td>0.25 </td><td>-0.5 </td></tr>\n\t<tr><td> 0.25</td><td>0.25 </td><td> 0.5 </td></tr>\n</tbody>\n</table>\n"
          },
          "metadata": {}
        },
        {
          "output_type": "display_data",
          "data": {
            "text/plain": "     [,1] [,2] [,3]\n[1,] 1    0    0   \n[2,] 0    1    0   \n[3,] 0    0    1   ",
            "text/latex": "\\begin{tabular}{lll}\n\t 1 & 0 & 0\\\\\n\t 0 & 1 & 0\\\\\n\t 0 & 0 & 1\\\\\n\\end{tabular}\n",
            "text/markdown": "\n| 1 | 0 | 0 |\n| 0 | 1 | 0 |\n| 0 | 0 | 1 |\n\n",
            "text/html": "<table>\n<tbody>\n\t<tr><td>1</td><td>0</td><td>0</td></tr>\n\t<tr><td>0</td><td>1</td><td>0</td></tr>\n\t<tr><td>0</td><td>0</td><td>1</td></tr>\n</tbody>\n</table>\n"
          },
          "metadata": {}
        }
      ]
    },
    {
      "metadata": {},
      "cell_type": "markdown",
      "source": "## 単位行列"
    },
    {
      "metadata": {
        "trusted": true
      },
      "cell_type": "code",
      "source": "diag(3) #3x3の単位行列",
      "execution_count": 131,
      "outputs": [
        {
          "output_type": "display_data",
          "data": {
            "text/plain": "     [,1] [,2] [,3]\n[1,] 1    0    0   \n[2,] 0    1    0   \n[3,] 0    0    1   ",
            "text/latex": "\\begin{tabular}{lll}\n\t 1 & 0 & 0\\\\\n\t 0 & 1 & 0\\\\\n\t 0 & 0 & 1\\\\\n\\end{tabular}\n",
            "text/markdown": "\n| 1 | 0 | 0 |\n| 0 | 1 | 0 |\n| 0 | 0 | 1 |\n\n",
            "text/html": "<table>\n<tbody>\n\t<tr><td>1</td><td>0</td><td>0</td></tr>\n\t<tr><td>0</td><td>1</td><td>0</td></tr>\n\t<tr><td>0</td><td>0</td><td>1</td></tr>\n</tbody>\n</table>\n"
          },
          "metadata": {}
        }
      ]
    },
    {
      "metadata": {},
      "cell_type": "markdown",
      "source": "## 対角行列"
    },
    {
      "metadata": {
        "trusted": true
      },
      "cell_type": "code",
      "source": "diag(c(1,3,3))\ndiag(1:3)",
      "execution_count": 134,
      "outputs": [
        {
          "output_type": "display_data",
          "data": {
            "text/plain": "     [,1] [,2] [,3]\n[1,] 1    0    0   \n[2,] 0    3    0   \n[3,] 0    0    3   ",
            "text/latex": "\\begin{tabular}{lll}\n\t 1 & 0 & 0\\\\\n\t 0 & 3 & 0\\\\\n\t 0 & 0 & 3\\\\\n\\end{tabular}\n",
            "text/markdown": "\n| 1 | 0 | 0 |\n| 0 | 3 | 0 |\n| 0 | 0 | 3 |\n\n",
            "text/html": "<table>\n<tbody>\n\t<tr><td>1</td><td>0</td><td>0</td></tr>\n\t<tr><td>0</td><td>3</td><td>0</td></tr>\n\t<tr><td>0</td><td>0</td><td>3</td></tr>\n</tbody>\n</table>\n"
          },
          "metadata": {}
        },
        {
          "output_type": "display_data",
          "data": {
            "text/plain": "     [,1] [,2] [,3]\n[1,] 1    0    0   \n[2,] 0    2    0   \n[3,] 0    0    3   ",
            "text/latex": "\\begin{tabular}{lll}\n\t 1 & 0 & 0\\\\\n\t 0 & 2 & 0\\\\\n\t 0 & 0 & 3\\\\\n\\end{tabular}\n",
            "text/markdown": "\n| 1 | 0 | 0 |\n| 0 | 2 | 0 |\n| 0 | 0 | 3 |\n\n",
            "text/html": "<table>\n<tbody>\n\t<tr><td>1</td><td>0</td><td>0</td></tr>\n\t<tr><td>0</td><td>2</td><td>0</td></tr>\n\t<tr><td>0</td><td>0</td><td>3</td></tr>\n</tbody>\n</table>\n"
          },
          "metadata": {}
        }
      ]
    },
    {
      "metadata": {},
      "cell_type": "markdown",
      "source": "## 行列の内積 "
    },
    {
      "metadata": {
        "trusted": true,
        "scrolled": true
      },
      "cell_type": "code",
      "source": "a<-matrix(1:6,nrow=2, ncol=2)\nb<-c(1,2)\na\nb\ncrossprod(a,b)",
      "execution_count": 153,
      "outputs": [
        {
          "output_type": "display_data",
          "data": {
            "text/plain": "     [,1] [,2]\n[1,] 1    3   \n[2,] 2    4   ",
            "text/latex": "\\begin{tabular}{ll}\n\t 1 & 3\\\\\n\t 2 & 4\\\\\n\\end{tabular}\n",
            "text/markdown": "\n| 1 | 3 |\n| 2 | 4 |\n\n",
            "text/html": "<table>\n<tbody>\n\t<tr><td>1</td><td>3</td></tr>\n\t<tr><td>2</td><td>4</td></tr>\n</tbody>\n</table>\n"
          },
          "metadata": {}
        },
        {
          "output_type": "display_data",
          "data": {
            "text/plain": "[1] 1 2",
            "text/latex": "\\begin{enumerate*}\n\\item 1\n\\item 2\n\\end{enumerate*}\n",
            "text/markdown": "1. 1\n2. 2\n\n\n",
            "text/html": "<ol class=list-inline>\n\t<li>1</li>\n\t<li>2</li>\n</ol>\n"
          },
          "metadata": {}
        },
        {
          "output_type": "display_data",
          "data": {
            "text/plain": "     [,1]\n[1,]  5  \n[2,] 11  ",
            "text/latex": "\\begin{tabular}{l}\n\t  5\\\\\n\t 11\\\\\n\\end{tabular}\n",
            "text/markdown": "\n|  5 |\n| 11 |\n\n",
            "text/html": "<table>\n<tbody>\n\t<tr><td> 5</td></tr>\n\t<tr><td>11</td></tr>\n</tbody>\n</table>\n"
          },
          "metadata": {}
        }
      ]
    },
    {
      "metadata": {},
      "cell_type": "markdown",
      "source": "## 固有値と固有ベクトル"
    },
    {
      "metadata": {
        "trusted": true
      },
      "cell_type": "code",
      "source": "a<-matrix(c(4,2,1,3),nrow=2, ncol=2)\na\nb<-eigen(a)\nb\nb$values\nb$vectors",
      "execution_count": 193,
      "outputs": [
        {
          "output_type": "display_data",
          "data": {
            "text/plain": "     [,1] [,2]\n[1,] 4    1   \n[2,] 2    3   ",
            "text/latex": "\\begin{tabular}{ll}\n\t 4 & 1\\\\\n\t 2 & 3\\\\\n\\end{tabular}\n",
            "text/markdown": "\n| 4 | 1 |\n| 2 | 3 |\n\n",
            "text/html": "<table>\n<tbody>\n\t<tr><td>4</td><td>1</td></tr>\n\t<tr><td>2</td><td>3</td></tr>\n</tbody>\n</table>\n"
          },
          "metadata": {}
        },
        {
          "output_type": "display_data",
          "data": {
            "text/plain": "eigen() decomposition\n$values\n[1] 5 2\n\n$vectors\n          [,1]       [,2]\n[1,] 0.7071068 -0.4472136\n[2,] 0.7071068  0.8944272\n"
          },
          "metadata": {}
        },
        {
          "output_type": "display_data",
          "data": {
            "text/plain": "[1] 5 2",
            "text/latex": "\\begin{enumerate*}\n\\item 5\n\\item 2\n\\end{enumerate*}\n",
            "text/markdown": "1. 5\n2. 2\n\n\n",
            "text/html": "<ol class=list-inline>\n\t<li>5</li>\n\t<li>2</li>\n</ol>\n"
          },
          "metadata": {}
        },
        {
          "output_type": "display_data",
          "data": {
            "text/plain": "     [,1]      [,2]      \n[1,] 0.7071068 -0.4472136\n[2,] 0.7071068  0.8944272",
            "text/latex": "\\begin{tabular}{ll}\n\t 0.7071068  & -0.4472136\\\\\n\t 0.7071068  &  0.8944272\\\\\n\\end{tabular}\n",
            "text/markdown": "\n| 0.7071068  | -0.4472136 |\n| 0.7071068  |  0.8944272 |\n\n",
            "text/html": "<table>\n<tbody>\n\t<tr><td>0.7071068 </td><td>-0.4472136</td></tr>\n\t<tr><td>0.7071068 </td><td> 0.8944272</td></tr>\n</tbody>\n</table>\n"
          },
          "metadata": {}
        }
      ]
    },
    {
      "metadata": {},
      "cell_type": "markdown",
      "source": "## 行列式"
    },
    {
      "metadata": {
        "trusted": true
      },
      "cell_type": "code",
      "source": "a<-matrix(c(1,2,3,4),nrow=2, ncol=2)\na\ndet(a)",
      "execution_count": 149,
      "outputs": [
        {
          "output_type": "display_data",
          "data": {
            "text/plain": "     [,1] [,2]\n[1,] 1    3   \n[2,] 2    4   ",
            "text/latex": "\\begin{tabular}{ll}\n\t 1 & 3\\\\\n\t 2 & 4\\\\\n\\end{tabular}\n",
            "text/markdown": "\n| 1 | 3 |\n| 2 | 4 |\n\n",
            "text/html": "<table>\n<tbody>\n\t<tr><td>1</td><td>3</td></tr>\n\t<tr><td>2</td><td>4</td></tr>\n</tbody>\n</table>\n"
          },
          "metadata": {}
        },
        {
          "output_type": "display_data",
          "data": {
            "text/plain": "[1] -2",
            "text/latex": "-2",
            "text/markdown": "-2",
            "text/html": "-2"
          },
          "metadata": {}
        }
      ]
    },
    {
      "metadata": {},
      "cell_type": "markdown",
      "source": "---\n# データフレーム\nデータフレームは行列と同じく2次元配置のデータを扱います．\nベクトルや行列とは異なり，データフレームは違う種類の要素（数値，文字列，真偽値など）をまとめることができます．  \n\n## データフレームの作成"
    },
    {
      "metadata": {
        "trusted": true,
        "scrolled": true
      },
      "cell_type": "code",
      "source": "df<-data.frame(\n  subject=c(\"A\", \"B\", \"C\", \"D\"),\n  result=c(T, T, F, T)\n)\ndf",
      "execution_count": 57,
      "outputs": [
        {
          "output_type": "display_data",
          "data": {
            "text/plain": "  subject result\n1 A        TRUE \n2 B        TRUE \n3 C       FALSE \n4 D        TRUE ",
            "text/latex": "\\begin{tabular}{r|ll}\n subject & result\\\\\n\\hline\n\t A     &  TRUE\\\\\n\t B     &  TRUE\\\\\n\t C     & FALSE\\\\\n\t D     &  TRUE\\\\\n\\end{tabular}\n",
            "text/markdown": "\n| subject | result |\n|---|---|\n| A     |  TRUE |\n| B     |  TRUE |\n| C     | FALSE |\n| D     |  TRUE |\n\n",
            "text/html": "<table>\n<thead><tr><th scope=col>subject</th><th scope=col>result</th></tr></thead>\n<tbody>\n\t<tr><td>A    </td><td> TRUE</td></tr>\n\t<tr><td>B    </td><td> TRUE</td></tr>\n\t<tr><td>C    </td><td>FALSE</td></tr>\n\t<tr><td>D    </td><td> TRUE</td></tr>\n</tbody>\n</table>\n"
          },
          "metadata": {}
        }
      ]
    },
    {
      "metadata": {},
      "cell_type": "markdown",
      "source": "## データフレーム要素の参照"
    },
    {
      "metadata": {
        "trusted": true,
        "scrolled": true
      },
      "cell_type": "code",
      "source": "df<-data.frame(\n  subject=c(\"A\", \"B\", \"C\", \"D\"),\n  result=c(T, T, F, T)\n)\ndf\ndf$subject #ヘッダ名で参照\ndf[2,1] #2行1列目を参照\ndf[,1] #1列目を参照\ndf[2,] #2行目を参照\ndf[1:3,] #1～3行目を参照",
      "execution_count": 56,
      "outputs": [
        {
          "output_type": "display_data",
          "data": {
            "text/plain": "  subject result\n1 A        TRUE \n2 B        TRUE \n3 C       FALSE \n4 D        TRUE ",
            "text/latex": "\\begin{tabular}{r|ll}\n subject & result\\\\\n\\hline\n\t A     &  TRUE\\\\\n\t B     &  TRUE\\\\\n\t C     & FALSE\\\\\n\t D     &  TRUE\\\\\n\\end{tabular}\n",
            "text/markdown": "\n| subject | result |\n|---|---|\n| A     |  TRUE |\n| B     |  TRUE |\n| C     | FALSE |\n| D     |  TRUE |\n\n",
            "text/html": "<table>\n<thead><tr><th scope=col>subject</th><th scope=col>result</th></tr></thead>\n<tbody>\n\t<tr><td>A    </td><td> TRUE</td></tr>\n\t<tr><td>B    </td><td> TRUE</td></tr>\n\t<tr><td>C    </td><td>FALSE</td></tr>\n\t<tr><td>D    </td><td> TRUE</td></tr>\n</tbody>\n</table>\n"
          },
          "metadata": {}
        },
        {
          "output_type": "display_data",
          "data": {
            "text/plain": "[1] A B C D\nLevels: A B C D",
            "text/latex": "\\begin{enumerate*}\n\\item A\n\\item B\n\\item C\n\\item D\n\\end{enumerate*}\n\n\\emph{Levels}: \\begin{enumerate*}\n\\item 'A'\n\\item 'B'\n\\item 'C'\n\\item 'D'\n\\end{enumerate*}\n",
            "text/markdown": "1. A\n2. B\n3. C\n4. D\n\n\n\n**Levels**: 1. 'A'\n2. 'B'\n3. 'C'\n4. 'D'\n\n\n",
            "text/html": "<ol class=list-inline>\n\t<li>A</li>\n\t<li>B</li>\n\t<li>C</li>\n\t<li>D</li>\n</ol>\n\n<details>\n\t<summary style=display:list-item;cursor:pointer>\n\t\t<strong>Levels</strong>:\n\t</summary>\n\t<ol class=list-inline>\n\t\t<li>'A'</li>\n\t\t<li>'B'</li>\n\t\t<li>'C'</li>\n\t\t<li>'D'</li>\n\t</ol>\n</details>"
          },
          "metadata": {}
        },
        {
          "output_type": "display_data",
          "data": {
            "text/plain": "[1] B\nLevels: A B C D",
            "text/latex": "B\n\\emph{Levels}: \\begin{enumerate*}\n\\item 'A'\n\\item 'B'\n\\item 'C'\n\\item 'D'\n\\end{enumerate*}\n",
            "text/markdown": "B\n**Levels**: 1. 'A'\n2. 'B'\n3. 'C'\n4. 'D'\n\n\n",
            "text/html": "B\n<details>\n\t<summary style=display:list-item;cursor:pointer>\n\t\t<strong>Levels</strong>:\n\t</summary>\n\t<ol class=list-inline>\n\t\t<li>'A'</li>\n\t\t<li>'B'</li>\n\t\t<li>'C'</li>\n\t\t<li>'D'</li>\n\t</ol>\n</details>"
          },
          "metadata": {}
        },
        {
          "output_type": "display_data",
          "data": {
            "text/plain": "[1] A B C D\nLevels: A B C D",
            "text/latex": "\\begin{enumerate*}\n\\item A\n\\item B\n\\item C\n\\item D\n\\end{enumerate*}\n\n\\emph{Levels}: \\begin{enumerate*}\n\\item 'A'\n\\item 'B'\n\\item 'C'\n\\item 'D'\n\\end{enumerate*}\n",
            "text/markdown": "1. A\n2. B\n3. C\n4. D\n\n\n\n**Levels**: 1. 'A'\n2. 'B'\n3. 'C'\n4. 'D'\n\n\n",
            "text/html": "<ol class=list-inline>\n\t<li>A</li>\n\t<li>B</li>\n\t<li>C</li>\n\t<li>D</li>\n</ol>\n\n<details>\n\t<summary style=display:list-item;cursor:pointer>\n\t\t<strong>Levels</strong>:\n\t</summary>\n\t<ol class=list-inline>\n\t\t<li>'A'</li>\n\t\t<li>'B'</li>\n\t\t<li>'C'</li>\n\t\t<li>'D'</li>\n\t</ol>\n</details>"
          },
          "metadata": {}
        },
        {
          "output_type": "display_data",
          "data": {
            "text/plain": "  subject result\n2 B       TRUE  ",
            "text/latex": "\\begin{tabular}{r|ll}\n  & subject & result\\\\\n\\hline\n\t2 & B    & TRUE\\\\\n\\end{tabular}\n",
            "text/markdown": "\n| <!--/--> | subject | result |\n|---|---|---|\n| 2 | B    | TRUE |\n\n",
            "text/html": "<table>\n<thead><tr><th></th><th scope=col>subject</th><th scope=col>result</th></tr></thead>\n<tbody>\n\t<tr><th scope=row>2</th><td>B   </td><td>TRUE</td></tr>\n</tbody>\n</table>\n"
          },
          "metadata": {}
        },
        {
          "output_type": "display_data",
          "data": {
            "text/plain": "  subject result\n1 A        TRUE \n2 B        TRUE \n3 C       FALSE ",
            "text/latex": "\\begin{tabular}{r|ll}\n subject & result\\\\\n\\hline\n\t A     &  TRUE\\\\\n\t B     &  TRUE\\\\\n\t C     & FALSE\\\\\n\\end{tabular}\n",
            "text/markdown": "\n| subject | result |\n|---|---|\n| A     |  TRUE |\n| B     |  TRUE |\n| C     | FALSE |\n\n",
            "text/html": "<table>\n<thead><tr><th scope=col>subject</th><th scope=col>result</th></tr></thead>\n<tbody>\n\t<tr><td>A    </td><td> TRUE</td></tr>\n\t<tr><td>B    </td><td> TRUE</td></tr>\n\t<tr><td>C    </td><td>FALSE</td></tr>\n</tbody>\n</table>\n"
          },
          "metadata": {}
        }
      ]
    },
    {
      "metadata": {},
      "cell_type": "markdown",
      "source": "## データフレームの並べ替え"
    },
    {
      "metadata": {
        "trusted": true,
        "scrolled": true
      },
      "cell_type": "code",
      "source": "df<-data.frame(\n    subject=c(\"Takeda\", \"Imagawa\", \"Hojo\"),\n    result=c(1582, 1569, 1590)\n)\ndf\ndf[order(df$result),] #昇順\ndf[order(df$result, decreasing=TRUE),] #降順",
      "execution_count": 65,
      "outputs": [
        {
          "output_type": "display_data",
          "data": {
            "text/plain": "  subject result\n1 Takeda  1582  \n2 Imagawa 1569  \n3 Hojo    1590  ",
            "text/latex": "\\begin{tabular}{r|ll}\n subject & result\\\\\n\\hline\n\t Takeda  & 1582   \\\\\n\t Imagawa & 1569   \\\\\n\t Hojo    & 1590   \\\\\n\\end{tabular}\n",
            "text/markdown": "\n| subject | result |\n|---|---|\n| Takeda  | 1582    |\n| Imagawa | 1569    |\n| Hojo    | 1590    |\n\n",
            "text/html": "<table>\n<thead><tr><th scope=col>subject</th><th scope=col>result</th></tr></thead>\n<tbody>\n\t<tr><td>Takeda </td><td>1582   </td></tr>\n\t<tr><td>Imagawa</td><td>1569   </td></tr>\n\t<tr><td>Hojo   </td><td>1590   </td></tr>\n</tbody>\n</table>\n"
          },
          "metadata": {}
        },
        {
          "output_type": "display_data",
          "data": {
            "text/plain": "  subject result\n2 Imagawa 1569  \n1 Takeda  1582  \n3 Hojo    1590  ",
            "text/latex": "\\begin{tabular}{r|ll}\n  & subject & result\\\\\n\\hline\n\t2 & Imagawa & 1569   \\\\\n\t1 & Takeda  & 1582   \\\\\n\t3 & Hojo    & 1590   \\\\\n\\end{tabular}\n",
            "text/markdown": "\n| <!--/--> | subject | result |\n|---|---|---|\n| 2 | Imagawa | 1569    |\n| 1 | Takeda  | 1582    |\n| 3 | Hojo    | 1590    |\n\n",
            "text/html": "<table>\n<thead><tr><th></th><th scope=col>subject</th><th scope=col>result</th></tr></thead>\n<tbody>\n\t<tr><th scope=row>2</th><td>Imagawa</td><td>1569   </td></tr>\n\t<tr><th scope=row>1</th><td>Takeda </td><td>1582   </td></tr>\n\t<tr><th scope=row>3</th><td>Hojo   </td><td>1590   </td></tr>\n</tbody>\n</table>\n"
          },
          "metadata": {}
        },
        {
          "output_type": "display_data",
          "data": {
            "text/plain": "  subject result\n3 Hojo    1590  \n1 Takeda  1582  \n2 Imagawa 1569  ",
            "text/latex": "\\begin{tabular}{r|ll}\n  & subject & result\\\\\n\\hline\n\t3 & Hojo    & 1590   \\\\\n\t1 & Takeda  & 1582   \\\\\n\t2 & Imagawa & 1569   \\\\\n\\end{tabular}\n",
            "text/markdown": "\n| <!--/--> | subject | result |\n|---|---|---|\n| 3 | Hojo    | 1590    |\n| 1 | Takeda  | 1582    |\n| 2 | Imagawa | 1569    |\n\n",
            "text/html": "<table>\n<thead><tr><th></th><th scope=col>subject</th><th scope=col>result</th></tr></thead>\n<tbody>\n\t<tr><th scope=row>3</th><td>Hojo   </td><td>1590   </td></tr>\n\t<tr><th scope=row>1</th><td>Takeda </td><td>1582   </td></tr>\n\t<tr><th scope=row>2</th><td>Imagawa</td><td>1569   </td></tr>\n</tbody>\n</table>\n"
          },
          "metadata": {}
        }
      ]
    },
    {
      "metadata": {},
      "cell_type": "markdown",
      "source": "---\n# 配列\n配列は3次元以上のデータを扱うことができます．\n\n\n## 配列の生成"
    },
    {
      "metadata": {
        "trusted": true
      },
      "cell_type": "code",
      "source": "a<-array(1:8, dim=c(2, 4))\na\na<-array(1:27, dim=c(3,3,3))\na",
      "execution_count": 72,
      "outputs": [
        {
          "output_type": "display_data",
          "data": {
            "text/plain": "     [,1] [,2] [,3] [,4]\n[1,] 1    3    5    7   \n[2,] 2    4    6    8   ",
            "text/latex": "\\begin{tabular}{llll}\n\t 1 & 3 & 5 & 7\\\\\n\t 2 & 4 & 6 & 8\\\\\n\\end{tabular}\n",
            "text/markdown": "\n| 1 | 3 | 5 | 7 |\n| 2 | 4 | 6 | 8 |\n\n",
            "text/html": "<table>\n<tbody>\n\t<tr><td>1</td><td>3</td><td>5</td><td>7</td></tr>\n\t<tr><td>2</td><td>4</td><td>6</td><td>8</td></tr>\n</tbody>\n</table>\n"
          },
          "metadata": {}
        },
        {
          "output_type": "display_data",
          "data": {
            "text/plain": ", , 1\n\n     [,1] [,2] [,3]\n[1,]    1    4    7\n[2,]    2    5    8\n[3,]    3    6    9\n\n, , 2\n\n     [,1] [,2] [,3]\n[1,]   10   13   16\n[2,]   11   14   17\n[3,]   12   15   18\n\n, , 3\n\n     [,1] [,2] [,3]\n[1,]   19   22   25\n[2,]   20   23   26\n[3,]   21   24   27\n",
            "text/latex": "\\begin{enumerate*}\n\\item 1\n\\item 2\n\\item 3\n\\item 4\n\\item 5\n\\item 6\n\\item 7\n\\item 8\n\\item 9\n\\item 10\n\\item 11\n\\item 12\n\\item 13\n\\item 14\n\\item 15\n\\item 16\n\\item 17\n\\item 18\n\\item 19\n\\item 20\n\\item 21\n\\item 22\n\\item 23\n\\item 24\n\\item 25\n\\item 26\n\\item 27\n\\end{enumerate*}\n",
            "text/markdown": "1. 1\n2. 2\n3. 3\n4. 4\n5. 5\n6. 6\n7. 7\n8. 8\n9. 9\n10. 10\n11. 11\n12. 12\n13. 13\n14. 14\n15. 15\n16. 16\n17. 17\n18. 18\n19. 19\n20. 20\n21. 21\n22. 22\n23. 23\n24. 24\n25. 25\n26. 26\n27. 27\n\n\n",
            "text/html": "<ol class=list-inline>\n\t<li>1</li>\n\t<li>2</li>\n\t<li>3</li>\n\t<li>4</li>\n\t<li>5</li>\n\t<li>6</li>\n\t<li>7</li>\n\t<li>8</li>\n\t<li>9</li>\n\t<li>10</li>\n\t<li>11</li>\n\t<li>12</li>\n\t<li>13</li>\n\t<li>14</li>\n\t<li>15</li>\n\t<li>16</li>\n\t<li>17</li>\n\t<li>18</li>\n\t<li>19</li>\n\t<li>20</li>\n\t<li>21</li>\n\t<li>22</li>\n\t<li>23</li>\n\t<li>24</li>\n\t<li>25</li>\n\t<li>26</li>\n\t<li>27</li>\n</ol>\n"
          },
          "metadata": {}
        }
      ]
    },
    {
      "metadata": {},
      "cell_type": "markdown",
      "source": "## 配列の参照"
    },
    {
      "metadata": {
        "trusted": true,
        "scrolled": true
      },
      "cell_type": "code",
      "source": "a<-array(1:27, dim=c(3,3,3))\na[3,3,3]\na[,1,1]\na[2,,]\na[6:15]",
      "execution_count": 92,
      "outputs": [
        {
          "output_type": "display_data",
          "data": {
            "text/plain": "[1] 27",
            "text/latex": "27",
            "text/markdown": "27",
            "text/html": "27"
          },
          "metadata": {}
        },
        {
          "output_type": "display_data",
          "data": {
            "text/plain": "[1] 1 2 3",
            "text/latex": "\\begin{enumerate*}\n\\item 1\n\\item 2\n\\item 3\n\\end{enumerate*}\n",
            "text/markdown": "1. 1\n2. 2\n3. 3\n\n\n",
            "text/html": "<ol class=list-inline>\n\t<li>1</li>\n\t<li>2</li>\n\t<li>3</li>\n</ol>\n"
          },
          "metadata": {}
        },
        {
          "output_type": "display_data",
          "data": {
            "text/plain": "     [,1] [,2] [,3]\n[1,] 2    11   20  \n[2,] 5    14   23  \n[3,] 8    17   26  ",
            "text/latex": "\\begin{tabular}{lll}\n\t 2  & 11 & 20\\\\\n\t 5  & 14 & 23\\\\\n\t 8  & 17 & 26\\\\\n\\end{tabular}\n",
            "text/markdown": "\n| 2  | 11 | 20 |\n| 5  | 14 | 23 |\n| 8  | 17 | 26 |\n\n",
            "text/html": "<table>\n<tbody>\n\t<tr><td>2 </td><td>11</td><td>20</td></tr>\n\t<tr><td>5 </td><td>14</td><td>23</td></tr>\n\t<tr><td>8 </td><td>17</td><td>26</td></tr>\n</tbody>\n</table>\n"
          },
          "metadata": {}
        },
        {
          "output_type": "display_data",
          "data": {
            "text/plain": " [1]  6  7  8  9 10 11 12 13 14 15",
            "text/latex": "\\begin{enumerate*}\n\\item 6\n\\item 7\n\\item 8\n\\item 9\n\\item 10\n\\item 11\n\\item 12\n\\item 13\n\\item 14\n\\item 15\n\\end{enumerate*}\n",
            "text/markdown": "1. 6\n2. 7\n3. 8\n4. 9\n5. 10\n6. 11\n7. 12\n8. 13\n9. 14\n10. 15\n\n\n",
            "text/html": "<ol class=list-inline>\n\t<li>6</li>\n\t<li>7</li>\n\t<li>8</li>\n\t<li>9</li>\n\t<li>10</li>\n\t<li>11</li>\n\t<li>12</li>\n\t<li>13</li>\n\t<li>14</li>\n\t<li>15</li>\n</ol>\n"
          },
          "metadata": {}
        }
      ]
    },
    {
      "metadata": {},
      "cell_type": "markdown",
      "source": "---\n# リスト\nリストはベクトルや配列と異なり複数種のオブジェクトをひとつにまとめることが可能です．\nリストの中にリストを入れることもできます．\n\n## リストの作成"
    },
    {
      "metadata": {
        "trusted": true
      },
      "cell_type": "code",
      "source": "a<-list(c(6,4,2), 1, list(2, \"LIST IN LIST\", list(3, \"LIST IN LIST IN LIST\", \"入れ子にもできる\")))\na",
      "execution_count": 106,
      "outputs": [
        {
          "output_type": "display_data",
          "data": {
            "text/plain": "[[1]]\n[1] 6 4 2\n\n[[2]]\n[1] 1\n\n[[3]]\n[[3]][[1]]\n[1] 2\n\n[[3]][[2]]\n[1] \"LIST IN LIST\"\n\n[[3]][[3]]\n[[3]][[3]][[1]]\n[1] 3\n\n[[3]][[3]][[2]]\n[1] \"LIST IN LIST IN LIST\"\n\n[[3]][[3]][[3]]\n[1] \"入れ子にもできる\"\n\n\n",
            "text/latex": "\\begin{enumerate}\n\\item \\begin{enumerate*}\n\\item 6\n\\item 4\n\\item 2\n\\end{enumerate*}\n\n\\item 1\n\\item \\begin{enumerate}\n\\item 2\n\\item 'LIST IN LIST'\n\\item \\begin{enumerate}\n\\item 3\n\\item 'LIST IN LIST IN LIST'\n\\item '入れ子にもできる'\n\\end{enumerate}\n\n\\end{enumerate}\n\n\\end{enumerate}\n",
            "text/markdown": "1. 1. 6\n2. 4\n3. 2\n\n\n\n2. 1\n3. 1. 2\n2. 'LIST IN LIST'\n3. 1. 3\n2. 'LIST IN LIST IN LIST'\n3. '入れ子にもできる'\n\n\n\n\n\n\n\n\n",
            "text/html": "<ol>\n\t<li><ol class=list-inline>\n\t<li>6</li>\n\t<li>4</li>\n\t<li>2</li>\n</ol>\n</li>\n\t<li>1</li>\n\t<li><ol>\n\t<li>2</li>\n\t<li>'LIST IN LIST'</li>\n\t<li><ol>\n\t<li>3</li>\n\t<li>'LIST IN LIST IN LIST'</li>\n\t<li>'入れ子にもできる'</li>\n</ol>\n</li>\n</ol>\n</li>\n</ol>\n"
          },
          "metadata": {}
        }
      ]
    },
    {
      "metadata": {},
      "cell_type": "markdown",
      "source": "## リストの参照"
    },
    {
      "metadata": {
        "trusted": true
      },
      "cell_type": "code",
      "source": "a<-list(\"A\", 1, list(\"B\", 2, list(\"C\", 3, 4)))\na\na[1] #リストの1番目を参照（この場合インデックスがつく）\na[[1]] #リストの1番目の要素をインデックスなしで参照\na[[3]][[3]][[3]] #入れ子状態になったリストの要素を参照",
      "execution_count": 133,
      "outputs": [
        {
          "output_type": "display_data",
          "data": {
            "text/plain": "[[1]]\n[1] \"A\"\n\n[[2]]\n[1] 1\n\n[[3]]\n[[3]][[1]]\n[1] \"B\"\n\n[[3]][[2]]\n[1] 2\n\n[[3]][[3]]\n[[3]][[3]][[1]]\n[1] \"C\"\n\n[[3]][[3]][[2]]\n[1] 3\n\n[[3]][[3]][[3]]\n[1] 4\n\n\n",
            "text/latex": "\\begin{enumerate}\n\\item 'A'\n\\item 1\n\\item \\begin{enumerate}\n\\item 'B'\n\\item 2\n\\item \\begin{enumerate}\n\\item 'C'\n\\item 3\n\\item 4\n\\end{enumerate}\n\n\\end{enumerate}\n\n\\end{enumerate}\n",
            "text/markdown": "1. 'A'\n2. 1\n3. 1. 'B'\n2. 2\n3. 1. 'C'\n2. 3\n3. 4\n\n\n\n\n\n\n\n\n",
            "text/html": "<ol>\n\t<li>'A'</li>\n\t<li>1</li>\n\t<li><ol>\n\t<li>'B'</li>\n\t<li>2</li>\n\t<li><ol>\n\t<li>'C'</li>\n\t<li>3</li>\n\t<li>4</li>\n</ol>\n</li>\n</ol>\n</li>\n</ol>\n"
          },
          "metadata": {}
        },
        {
          "output_type": "display_data",
          "data": {
            "text/plain": "[[1]]\n[1] \"A\"\n",
            "text/latex": "\\begin{enumerate}\n\\item 'A'\n\\end{enumerate}\n",
            "text/markdown": "1. 'A'\n\n\n",
            "text/html": "<ol>\n\t<li>'A'</li>\n</ol>\n"
          },
          "metadata": {}
        },
        {
          "output_type": "display_data",
          "data": {
            "text/plain": "[1] \"A\"",
            "text/latex": "'A'",
            "text/markdown": "'A'",
            "text/html": "'A'"
          },
          "metadata": {}
        },
        {
          "output_type": "display_data",
          "data": {
            "text/plain": "[1] 4",
            "text/latex": "4",
            "text/markdown": "4",
            "text/html": "4"
          },
          "metadata": {}
        }
      ]
    },
    {
      "metadata": {},
      "cell_type": "markdown",
      "source": "## リストの要素に名前をつける"
    },
    {
      "metadata": {
        "trusted": true
      },
      "cell_type": "code",
      "source": "#初期化時に名前をつける場合\na<-list(\n    name=c(\"tanaka\", \"suzuki\", \"yamada\"),\n    value=120\n)\na\na$name\na$value\n\n#names関数を使う場合\nnames(a)<-c(\"lastname\",\"test\")\na\na$lastname\na$test",
      "execution_count": 139,
      "outputs": [
        {
          "output_type": "display_data",
          "data": {
            "text/plain": "$name\n[1] \"tanaka\" \"suzuki\" \"yamada\"\n\n$value\n[1] 120\n",
            "text/latex": "\\begin{description}\n\\item[\\$name] \\begin{enumerate*}\n\\item 'tanaka'\n\\item 'suzuki'\n\\item 'yamada'\n\\end{enumerate*}\n\n\\item[\\$value] 120\n\\end{description}\n",
            "text/markdown": "$name\n:   1. 'tanaka'\n2. 'suzuki'\n3. 'yamada'\n\n\n\n$value\n:   120\n\n\n",
            "text/html": "<dl>\n\t<dt>$name</dt>\n\t\t<dd><ol class=list-inline>\n\t<li>'tanaka'</li>\n\t<li>'suzuki'</li>\n\t<li>'yamada'</li>\n</ol>\n</dd>\n\t<dt>$value</dt>\n\t\t<dd>120</dd>\n</dl>\n"
          },
          "metadata": {}
        },
        {
          "output_type": "display_data",
          "data": {
            "text/plain": "[1] \"tanaka\" \"suzuki\" \"yamada\"",
            "text/latex": "\\begin{enumerate*}\n\\item 'tanaka'\n\\item 'suzuki'\n\\item 'yamada'\n\\end{enumerate*}\n",
            "text/markdown": "1. 'tanaka'\n2. 'suzuki'\n3. 'yamada'\n\n\n",
            "text/html": "<ol class=list-inline>\n\t<li>'tanaka'</li>\n\t<li>'suzuki'</li>\n\t<li>'yamada'</li>\n</ol>\n"
          },
          "metadata": {}
        },
        {
          "output_type": "display_data",
          "data": {
            "text/plain": "[1] 120",
            "text/latex": "120",
            "text/markdown": "120",
            "text/html": "120"
          },
          "metadata": {}
        },
        {
          "output_type": "display_data",
          "data": {
            "text/plain": "$lastname\n[1] \"tanaka\" \"suzuki\" \"yamada\"\n\n$test\n[1] 120\n",
            "text/latex": "\\begin{description}\n\\item[\\$lastname] \\begin{enumerate*}\n\\item 'tanaka'\n\\item 'suzuki'\n\\item 'yamada'\n\\end{enumerate*}\n\n\\item[\\$test] 120\n\\end{description}\n",
            "text/markdown": "$lastname\n:   1. 'tanaka'\n2. 'suzuki'\n3. 'yamada'\n\n\n\n$test\n:   120\n\n\n",
            "text/html": "<dl>\n\t<dt>$lastname</dt>\n\t\t<dd><ol class=list-inline>\n\t<li>'tanaka'</li>\n\t<li>'suzuki'</li>\n\t<li>'yamada'</li>\n</ol>\n</dd>\n\t<dt>$test</dt>\n\t\t<dd>120</dd>\n</dl>\n"
          },
          "metadata": {}
        },
        {
          "output_type": "display_data",
          "data": {
            "text/plain": "[1] \"tanaka\" \"suzuki\" \"yamada\"",
            "text/latex": "\\begin{enumerate*}\n\\item 'tanaka'\n\\item 'suzuki'\n\\item 'yamada'\n\\end{enumerate*}\n",
            "text/markdown": "1. 'tanaka'\n2. 'suzuki'\n3. 'yamada'\n\n\n",
            "text/html": "<ol class=list-inline>\n\t<li>'tanaka'</li>\n\t<li>'suzuki'</li>\n\t<li>'yamada'</li>\n</ol>\n"
          },
          "metadata": {}
        },
        {
          "output_type": "display_data",
          "data": {
            "text/plain": "[1] 120",
            "text/latex": "120",
            "text/markdown": "120",
            "text/html": "120"
          },
          "metadata": {}
        }
      ]
    },
    {
      "metadata": {},
      "cell_type": "markdown",
      "source": "---\n# Rの数学基本関数\n## 三角関数"
    },
    {
      "metadata": {
        "trusted": true
      },
      "cell_type": "code",
      "source": "pi #円周率",
      "execution_count": null,
      "outputs": []
    },
    {
      "metadata": {
        "trusted": true,
        "scrolled": true
      },
      "cell_type": "code",
      "source": "sin(pi/2) #サイン",
      "execution_count": null,
      "outputs": []
    },
    {
      "metadata": {
        "trusted": true
      },
      "cell_type": "code",
      "source": "cos(180) #コサイン",
      "execution_count": null,
      "outputs": []
    },
    {
      "metadata": {
        "trusted": true
      },
      "cell_type": "code",
      "source": "tan(pi) #タンジェント",
      "execution_count": null,
      "outputs": []
    },
    {
      "metadata": {
        "trusted": true
      },
      "cell_type": "code",
      "source": "atan(pi/2) #アークタンジェント",
      "execution_count": null,
      "outputs": []
    },
    {
      "metadata": {
        "trusted": true,
        "scrolled": true
      },
      "cell_type": "code",
      "source": "sinh(pi) #ハイパボリックサイン",
      "execution_count": null,
      "outputs": []
    },
    {
      "metadata": {},
      "cell_type": "markdown",
      "source": "## 対数"
    },
    {
      "metadata": {
        "trusted": true,
        "scrolled": true
      },
      "cell_type": "code",
      "source": "exp(1) #ネイピア数",
      "execution_count": null,
      "outputs": []
    },
    {
      "metadata": {
        "trusted": true
      },
      "cell_type": "code",
      "source": "#底を指定しないと自然対数になる\nlog(10)\nlog(exp(1))\nlog(exp(2))",
      "execution_count": null,
      "outputs": []
    },
    {
      "metadata": {
        "trusted": true
      },
      "cell_type": "code",
      "source": "#底を指定する\nlog(10, base=10)\nlog(exp(1), base=10)",
      "execution_count": null,
      "outputs": []
    },
    {
      "metadata": {
        "trusted": true
      },
      "cell_type": "code",
      "source": "4^(1/2)",
      "execution_count": null,
      "outputs": []
    },
    {
      "metadata": {},
      "cell_type": "markdown",
      "source": "## 累乗根"
    },
    {
      "metadata": {
        "trusted": true
      },
      "cell_type": "code",
      "source": "sqrt(4) #平方根\n4^(1/2) #平方根\n27^(1/3) #3乗根",
      "execution_count": null,
      "outputs": []
    },
    {
      "metadata": {},
      "cell_type": "markdown",
      "source": "## その他関数"
    },
    {
      "metadata": {
        "trusted": true
      },
      "cell_type": "code",
      "source": "abs(-50) #絶対値",
      "execution_count": null,
      "outputs": []
    },
    {
      "metadata": {
        "trusted": true
      },
      "cell_type": "code",
      "source": "trunc(pi) #整数部分",
      "execution_count": null,
      "outputs": []
    },
    {
      "metadata": {
        "trusted": true
      },
      "cell_type": "code",
      "source": "#小数点下n桁の四捨五入\nround(pi)\nround(pi,1)\nround(pi, 2)\nround(pi, 3)\nround(pi,-1)",
      "execution_count": null,
      "outputs": []
    },
    {
      "metadata": {
        "trusted": true
      },
      "cell_type": "code",
      "source": "floor(2.1) #小数点切り下げ\nceiling(2.1) #小数点切り上げ",
      "execution_count": null,
      "outputs": []
    },
    {
      "metadata": {
        "trusted": true
      },
      "cell_type": "code",
      "source": "#有効数字n桁\nsignif(100.6578,2)\nsignif(100.6578,3)\nsignif(100.6578,4)\nsignif(100.6578,5)",
      "execution_count": null,
      "outputs": []
    },
    {
      "metadata": {},
      "cell_type": "markdown",
      "source": "---\n# 制御構文\n## 条件分岐\n### if，else文"
    },
    {
      "metadata": {
        "trusted": true
      },
      "cell_type": "code",
      "source": "a<-2\nif(a==1){\n    print(\"1\")\n}else if(a==2){\n    print(\"2\") #実行\n}else{\n    print(\"3\")\n}",
      "execution_count": null,
      "outputs": []
    },
    {
      "metadata": {},
      "cell_type": "markdown",
      "source": "### switch文"
    },
    {
      "metadata": {
        "trusted": true
      },
      "cell_type": "code",
      "source": "a<-2\nswitch(a,\n    \"1\" = print(\"1です\"),\n    \"2\" = print(\"2です\"), #実行\n    \"3\" = print(\"3です\"),\n    print(\"1,2,3のどれでもないです\") #どの条件にも当てはまらないときに実行\n)",
      "execution_count": null,
      "outputs": []
    },
    {
      "metadata": {},
      "cell_type": "markdown",
      "source": "### ifelse文\nC言語等の三項演算子のような処理を書くのに使います．\n\n```\nifelse(条件式, TRUEのときの返り値, FALSEのときの返り値)\n```"
    },
    {
      "metadata": {
        "trusted": true
      },
      "cell_type": "code",
      "source": "a<-1\nx<-100\ny<-200\n\nb<-ifelse(a==1, x, y)\nc<-ifelse(a==2, x, y)\nb\nc",
      "execution_count": null,
      "outputs": []
    },
    {
      "metadata": {},
      "cell_type": "markdown",
      "source": "### 比較演算子\n基本的に他言語と同じです．"
    },
    {
      "metadata": {
        "trusted": true
      },
      "cell_type": "code",
      "source": "a <- 10\n\na == 10 #等しい\na != 10 #等しくない\na >  9  #～より大きい\na >= 10 #～以上\na <  11 #～未満\na <= 10 #～以下",
      "execution_count": null,
      "outputs": []
    },
    {
      "metadata": {},
      "cell_type": "markdown",
      "source": "### 論理演算子"
    },
    {
      "metadata": {
        "trusted": true
      },
      "cell_type": "code",
      "source": "a<-T\nb<-F\nc<-T\nx<-10\ny<-20\n\na & b #論理積\na | b #論理和\n\nx == 10 & y == 20 #条件式の比較",
      "execution_count": null,
      "outputs": []
    },
    {
      "metadata": {
        "trusted": true
      },
      "cell_type": "markdown",
      "source": "## 繰り返し\n### for文"
    },
    {
      "metadata": {
        "trusted": true
      },
      "cell_type": "code",
      "source": "vec<-c()\nfor (i in 1:10) {\n    vec<-append(vec, i)\n}\nprint(vec)\n\nfor (i in vec) {\n    print(i)\n}",
      "execution_count": 14,
      "outputs": [
        {
          "output_type": "stream",
          "text": " [1]  1  2  3  4  5  6  7  8  9 10\n[1] 1\n[1] 2\n[1] 3\n[1] 4\n[1] 5\n[1] 6\n[1] 7\n[1] 8\n[1] 9\n[1] 10\n",
          "name": "stdout"
        }
      ]
    },
    {
      "metadata": {},
      "cell_type": "markdown",
      "source": "## while文"
    },
    {
      "metadata": {
        "trusted": true
      },
      "cell_type": "code",
      "source": "x <- 0\nwhile (x < 10) {\n    x<-x+1\n}\nx\nx <- 0\nwhile (x <=10) {\n    x<-x+1\n}\nx",
      "execution_count": 15,
      "outputs": [
        {
          "output_type": "display_data",
          "data": {
            "text/plain": "[1] 10",
            "text/latex": "10",
            "text/markdown": "10",
            "text/html": "10"
          },
          "metadata": {}
        },
        {
          "output_type": "display_data",
          "data": {
            "text/plain": "[1] 11",
            "text/latex": "11",
            "text/markdown": "11",
            "text/html": "11"
          },
          "metadata": {}
        }
      ]
    },
    {
      "metadata": {},
      "cell_type": "markdown",
      "source": "## repeat文"
    },
    {
      "metadata": {
        "trusted": true
      },
      "cell_type": "code",
      "source": "x <- 0\nrepeat {  #breakになるまで繰り返し\n    if (x <= 5) x <- x+1\n    else  break\n}\nx",
      "execution_count": 17,
      "outputs": [
        {
          "output_type": "display_data",
          "data": {
            "text/plain": "[1] 6",
            "text/latex": "6",
            "text/markdown": "6",
            "text/html": "6"
          },
          "metadata": {}
        }
      ]
    },
    {
      "metadata": {
        "trusted": true
      },
      "cell_type": "markdown",
      "source": "---\n# 関数定義\n参考: http://cse.naro.affrc.go.jp/takezawa/r-tips/r/31.html"
    },
    {
      "metadata": {
        "trusted": true
      },
      "cell_type": "code",
      "source": "getDouble <- function(x) {\n    return(x*2)\n}\ngetDouble(4)",
      "execution_count": 1,
      "outputs": [
        {
          "output_type": "display_data",
          "data": {
            "text/plain": "[1] 8",
            "text/latex": "8",
            "text/markdown": "8",
            "text/html": "8"
          },
          "metadata": {}
        }
      ]
    },
    {
      "metadata": {
        "trusted": true
      },
      "cell_type": "code",
      "source": "",
      "execution_count": null,
      "outputs": []
    }
  ],
  "metadata": {
    "kernelspec": {
      "name": "r",
      "display_name": "R",
      "language": "R"
    },
    "language_info": {
      "mimetype": "text/x-r-source",
      "name": "R",
      "pygments_lexer": "r",
      "version": "3.5.3",
      "file_extension": ".r",
      "codemirror_mode": "r"
    }
  },
  "nbformat": 4,
  "nbformat_minor": 2
}